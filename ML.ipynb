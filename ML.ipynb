{
 "cells": [
  {
   "cell_type": "markdown",
   "id": "64beb124",
   "metadata": {},
   "source": [
    "Инициализация"
   ]
  },
  {
   "cell_type": "code",
   "execution_count": 1,
   "id": "f060d3e9",
   "metadata": {},
   "outputs": [
    {
     "data": {
      "text/html": [
       "<style>.output.output_scroll { height:auto !important; box-shadow: none !important; }</style>"
      ],
      "text/plain": [
       "<IPython.core.display.HTML object>"
      ]
     },
     "metadata": {},
     "output_type": "display_data"
    }
   ],
   "source": [
    "import numpy as np\n",
    "import matplotlib.pyplot as plt\n",
    "%matplotlib inline \n",
    "import pandas as pd \n",
    "import seaborn as sns\n",
    "import sklearn\n",
    "import math\n",
    "\n",
    "from IPython.core.display import display, HTML\n",
    "display(HTML(\"<style>.output.output_scroll { height:auto !important; box-shadow: none !important; }</style>\"))"
   ]
  },
  {
   "cell_type": "markdown",
   "id": "ddaf7c59",
   "metadata": {},
   "source": [
    "Загружаем данные:"
   ]
  },
  {
   "cell_type": "code",
   "execution_count": 2,
   "id": "0b969d21",
   "metadata": {},
   "outputs": [],
   "source": [
    "dataset_urls = {\n",
    "    \"60s\" : \"https://raw.githubusercontent.com/AUXLander/MachineLearning/master/datasets/dataset-of-60s.csv\",\n",
    "    \"70s\" : \"https://raw.githubusercontent.com/AUXLander/MachineLearning/master/datasets/dataset-of-70s.csv\",\n",
    "    \"80s\" : \"https://raw.githubusercontent.com/AUXLander/MachineLearning/master/datasets/dataset-of-80s.csv\",\n",
    "    \"90s\" : \"https://raw.githubusercontent.com/AUXLander/MachineLearning/master/datasets/dataset-of-90s.csv\",\n",
    "    \"00s\" : \"https://raw.githubusercontent.com/AUXLander/MachineLearning/master/datasets/dataset-of-00s.csv\",\n",
    "    \"10s\" : \"https://raw.githubusercontent.com/AUXLander/MachineLearning/master/datasets/dataset-of-10s.csv\",\n",
    "    \"all\" : \"https://raw.githubusercontent.com/AUXLander/MachineLearning/master/datasets/dataset-of-all.csv\"\n",
    "};"
   ]
  },
  {
   "cell_type": "markdown",
   "id": "aa20dc20",
   "metadata": {},
   "source": [
    "Выберем год"
   ]
  },
  {
   "cell_type": "code",
   "execution_count": 3,
   "id": "6f0d4586",
   "metadata": {},
   "outputs": [],
   "source": [
    "dataurl = dataset_urls[\"all\"];\n",
    "dataraw = pd.read_csv(dataurl);"
   ]
  },
  {
   "cell_type": "markdown",
   "id": "0ab78d31",
   "metadata": {},
   "source": [
    "Размеры таблицы:"
   ]
  },
  {
   "cell_type": "code",
   "execution_count": 4,
   "id": "c7da8935",
   "metadata": {},
   "outputs": [
    {
     "data": {
      "text/plain": [
       "(41106, 19)"
      ]
     },
     "execution_count": 4,
     "metadata": {},
     "output_type": "execute_result"
    }
   ],
   "source": [
    "dataraw.shape"
   ]
  },
  {
   "cell_type": "markdown",
   "id": "638dfa68",
   "metadata": {},
   "source": [
    "Отобразим первые строки:"
   ]
  },
  {
   "cell_type": "code",
   "execution_count": 5,
   "id": "41bc3ae3",
   "metadata": {},
   "outputs": [
    {
     "data": {
      "text/html": [
       "<div>\n",
       "<style scoped>\n",
       "    .dataframe tbody tr th:only-of-type {\n",
       "        vertical-align: middle;\n",
       "    }\n",
       "\n",
       "    .dataframe tbody tr th {\n",
       "        vertical-align: top;\n",
       "    }\n",
       "\n",
       "    .dataframe thead th {\n",
       "        text-align: right;\n",
       "    }\n",
       "</style>\n",
       "<table border=\"1\" class=\"dataframe\">\n",
       "  <thead>\n",
       "    <tr style=\"text-align: right;\">\n",
       "      <th></th>\n",
       "      <th>track</th>\n",
       "      <th>artist</th>\n",
       "      <th>uri</th>\n",
       "      <th>danceability</th>\n",
       "      <th>energy</th>\n",
       "      <th>key</th>\n",
       "      <th>loudness</th>\n",
       "      <th>mode</th>\n",
       "      <th>speechiness</th>\n",
       "      <th>acousticness</th>\n",
       "      <th>instrumentalness</th>\n",
       "      <th>liveness</th>\n",
       "      <th>valence</th>\n",
       "      <th>tempo</th>\n",
       "      <th>duration_ms</th>\n",
       "      <th>time_signature</th>\n",
       "      <th>chorus_hit</th>\n",
       "      <th>sections</th>\n",
       "      <th>target</th>\n",
       "    </tr>\n",
       "  </thead>\n",
       "  <tbody>\n",
       "    <tr>\n",
       "      <th>0</th>\n",
       "      <td>Lucky Man</td>\n",
       "      <td>Montgomery Gentry</td>\n",
       "      <td>spotify:track:4GiXBCUF7H6YfNQsnBRIzl</td>\n",
       "      <td>0.578</td>\n",
       "      <td>0.471</td>\n",
       "      <td>4</td>\n",
       "      <td>-7.270</td>\n",
       "      <td>1</td>\n",
       "      <td>0.0289</td>\n",
       "      <td>0.368000</td>\n",
       "      <td>0.00000</td>\n",
       "      <td>0.159</td>\n",
       "      <td>0.532</td>\n",
       "      <td>133.061</td>\n",
       "      <td>196707</td>\n",
       "      <td>4</td>\n",
       "      <td>30.88059</td>\n",
       "      <td>13</td>\n",
       "      <td>1</td>\n",
       "    </tr>\n",
       "    <tr>\n",
       "      <th>1</th>\n",
       "      <td>On The Hotline</td>\n",
       "      <td>Pretty Ricky</td>\n",
       "      <td>spotify:track:1zyqZONW985Cs4osz9wlsu</td>\n",
       "      <td>0.704</td>\n",
       "      <td>0.854</td>\n",
       "      <td>10</td>\n",
       "      <td>-5.477</td>\n",
       "      <td>0</td>\n",
       "      <td>0.1830</td>\n",
       "      <td>0.018500</td>\n",
       "      <td>0.00000</td>\n",
       "      <td>0.148</td>\n",
       "      <td>0.688</td>\n",
       "      <td>92.988</td>\n",
       "      <td>242587</td>\n",
       "      <td>4</td>\n",
       "      <td>41.51106</td>\n",
       "      <td>10</td>\n",
       "      <td>1</td>\n",
       "    </tr>\n",
       "    <tr>\n",
       "      <th>2</th>\n",
       "      <td>Clouds Of Dementia</td>\n",
       "      <td>Candlemass</td>\n",
       "      <td>spotify:track:6cHZf7RbxXCKwEkgAZT4mY</td>\n",
       "      <td>0.162</td>\n",
       "      <td>0.836</td>\n",
       "      <td>9</td>\n",
       "      <td>-3.009</td>\n",
       "      <td>1</td>\n",
       "      <td>0.0473</td>\n",
       "      <td>0.000111</td>\n",
       "      <td>0.00457</td>\n",
       "      <td>0.174</td>\n",
       "      <td>0.300</td>\n",
       "      <td>86.964</td>\n",
       "      <td>338893</td>\n",
       "      <td>4</td>\n",
       "      <td>65.32887</td>\n",
       "      <td>13</td>\n",
       "      <td>0</td>\n",
       "    </tr>\n",
       "    <tr>\n",
       "      <th>3</th>\n",
       "      <td>Heavy Metal, Raise Hell!</td>\n",
       "      <td>Zwartketterij</td>\n",
       "      <td>spotify:track:2IjBPp2vMeX7LggzRN3iSX</td>\n",
       "      <td>0.188</td>\n",
       "      <td>0.994</td>\n",
       "      <td>4</td>\n",
       "      <td>-3.745</td>\n",
       "      <td>1</td>\n",
       "      <td>0.1660</td>\n",
       "      <td>0.000007</td>\n",
       "      <td>0.07840</td>\n",
       "      <td>0.192</td>\n",
       "      <td>0.333</td>\n",
       "      <td>148.440</td>\n",
       "      <td>255667</td>\n",
       "      <td>4</td>\n",
       "      <td>58.59528</td>\n",
       "      <td>9</td>\n",
       "      <td>0</td>\n",
       "    </tr>\n",
       "    <tr>\n",
       "      <th>4</th>\n",
       "      <td>I Got A Feelin'</td>\n",
       "      <td>Billy Currington</td>\n",
       "      <td>spotify:track:1tF370eYXUcWwkIvaq3IGz</td>\n",
       "      <td>0.630</td>\n",
       "      <td>0.764</td>\n",
       "      <td>2</td>\n",
       "      <td>-4.353</td>\n",
       "      <td>1</td>\n",
       "      <td>0.0275</td>\n",
       "      <td>0.363000</td>\n",
       "      <td>0.00000</td>\n",
       "      <td>0.125</td>\n",
       "      <td>0.631</td>\n",
       "      <td>112.098</td>\n",
       "      <td>193760</td>\n",
       "      <td>4</td>\n",
       "      <td>22.62384</td>\n",
       "      <td>10</td>\n",
       "      <td>1</td>\n",
       "    </tr>\n",
       "  </tbody>\n",
       "</table>\n",
       "</div>"
      ],
      "text/plain": [
       "                      track             artist  \\\n",
       "0                 Lucky Man  Montgomery Gentry   \n",
       "1            On The Hotline       Pretty Ricky   \n",
       "2        Clouds Of Dementia         Candlemass   \n",
       "3  Heavy Metal, Raise Hell!      Zwartketterij   \n",
       "4           I Got A Feelin'   Billy Currington   \n",
       "\n",
       "                                    uri  danceability  energy  key  loudness  \\\n",
       "0  spotify:track:4GiXBCUF7H6YfNQsnBRIzl         0.578   0.471    4    -7.270   \n",
       "1  spotify:track:1zyqZONW985Cs4osz9wlsu         0.704   0.854   10    -5.477   \n",
       "2  spotify:track:6cHZf7RbxXCKwEkgAZT4mY         0.162   0.836    9    -3.009   \n",
       "3  spotify:track:2IjBPp2vMeX7LggzRN3iSX         0.188   0.994    4    -3.745   \n",
       "4  spotify:track:1tF370eYXUcWwkIvaq3IGz         0.630   0.764    2    -4.353   \n",
       "\n",
       "   mode  speechiness  acousticness  instrumentalness  liveness  valence  \\\n",
       "0     1       0.0289      0.368000           0.00000     0.159    0.532   \n",
       "1     0       0.1830      0.018500           0.00000     0.148    0.688   \n",
       "2     1       0.0473      0.000111           0.00457     0.174    0.300   \n",
       "3     1       0.1660      0.000007           0.07840     0.192    0.333   \n",
       "4     1       0.0275      0.363000           0.00000     0.125    0.631   \n",
       "\n",
       "     tempo  duration_ms  time_signature  chorus_hit  sections  target  \n",
       "0  133.061       196707               4    30.88059        13       1  \n",
       "1   92.988       242587               4    41.51106        10       1  \n",
       "2   86.964       338893               4    65.32887        13       0  \n",
       "3  148.440       255667               4    58.59528         9       0  \n",
       "4  112.098       193760               4    22.62384        10       1  "
      ]
     },
     "execution_count": 5,
     "metadata": {},
     "output_type": "execute_result"
    }
   ],
   "source": [
    "dataraw.head()"
   ]
  },
  {
   "cell_type": "markdown",
   "id": "07e3860b",
   "metadata": {},
   "source": [
    "Признаки:\n",
    "* Track - название композиции\n",
    "* Artist - исполнитель\n",
    "* Uri - ссылка на композицию в Spotify\n",
    "* Danceability - численная оценка от 0 до 1 описывает, насколько композияция подходит для танцев.\n",
    "* Energy - численная оценка, которая описывает общую эмоциональную активность и энергичность музыкальной композиции. \n",
    "* Key - величина, которая описывает общую тональность музыкальной композиции, где 0 = Ля, 1 = Ля минор, 2 = Си бемоль и т.д., иначе, если тональность не определена = -1.\n",
    "* Loudness - величина, описывающая громкость музыкальной копозиции в dB.\n",
    "* Mode - признак, который определяет модальность: мажор - 1, а минор - 0.\n",
    "* Speechiness - численная оценка от 0 до 1, которая описывает преобладание речи в музыкальной композиции. Значения выше 0,66 описывают треки, которые, вероятно, полностью состоят из произнесенных слов. Значения от 0,33 до 0,66 описывают дорожки, которые могут содержать как музыку, так и речь, как по частям, так и по слоям, включая такие случаи, как рэп. Значения ниже 0,33, скорее всего, представляют музыку и другие треки, не похожие на речь.\n",
    "* Acousticness - численная оценка от 0 до 1, которая описывает вероятность чисто аккустического исполнения музыкальной композиции.\n",
    "* Instrumentalness - численная оценка от 0 до 1, которая описывает вероятность отсутствия вокала в данной композиции. Чем выше оценка, тем ниже вероятность наличия вокала.\n",
    "* Liveness - численная оценка от 0 до 1, которая описывает вероятность записи музыкальной композиции вживую. Оценка выше 0.8 означает высокую вероятность исполнения вживую.\n",
    "* Valence - численное оценка от 0 до 1, которая описывает общий положительный эмоциональный настрой композиции от наиболее негативных и грустных - 0, к наиболее счастливым и радостным - 1.\n",
    "* Tempo - величина, описывающая темп музыкальной композиции, количество ударов в минуту (BPM).\n",
    "* Duration - величина, описывающая продолжительность музыкальной композиции в миллисекундах.\n",
    "* Time signature - величина, описывающая количество ударов в каждом такте.\n",
    "* Chorus hit - временная отметка, когда начинается третья секция музыкальной композиции (?)\n",
    "* Sections - величина, описывающая количество секций в музыкальной композиции (?). \n",
    "* Target - признак, который принимает значение \"1\", если музыкальная композиция стала хитом, и \"0\" иначе."
   ]
  },
  {
   "cell_type": "markdown",
   "id": "eb4878c0",
   "metadata": {},
   "source": [
    "Имена признаков в датасете:"
   ]
  },
  {
   "cell_type": "code",
   "execution_count": 6,
   "id": "1bed672f",
   "metadata": {},
   "outputs": [
    {
     "data": {
      "text/plain": [
       "Index(['track', 'artist', 'uri', 'danceability', 'energy', 'key', 'loudness',\n",
       "       'mode', 'speechiness', 'acousticness', 'instrumentalness', 'liveness',\n",
       "       'valence', 'tempo', 'duration_ms', 'time_signature', 'chorus_hit',\n",
       "       'sections', 'target'],\n",
       "      dtype='object')"
      ]
     },
     "execution_count": 6,
     "metadata": {},
     "output_type": "execute_result"
    }
   ],
   "source": [
    "dataraw.columns"
   ]
  },
  {
   "cell_type": "markdown",
   "id": "90f5f419",
   "metadata": {},
   "source": [
    "Признаки с неограниченным множеством принимаемых значений:"
   ]
  },
  {
   "cell_type": "code",
   "execution_count": 7,
   "id": "b8c0e520",
   "metadata": {},
   "outputs": [],
   "source": [
    "signs = ['danceability', 'energy', 'loudness', 'speechiness', 'acousticness', 'instrumentalness', 'liveness',\n",
    "       'valence', 'tempo', 'duration_ms'];"
   ]
  },
  {
   "cell_type": "markdown",
   "id": "547dd71a",
   "metadata": {},
   "source": [
    "Признаки с ограниченным множеством принимаемых значений:"
   ]
  },
  {
   "cell_type": "code",
   "execution_count": 8,
   "id": "6c23b8a8",
   "metadata": {},
   "outputs": [],
   "source": [
    "enumerated = ['key', 'mode', 'time_signature'];"
   ]
  },
  {
   "cell_type": "markdown",
   "id": "bb02a046",
   "metadata": {},
   "source": [
    "Покажем их преобладание:"
   ]
  },
  {
   "cell_type": "code",
   "execution_count": 9,
   "id": "13b455ff",
   "metadata": {
    "scrolled": true
   },
   "outputs": [
    {
     "data": {
      "image/png": "[encoded data removed]",
      "text/plain": [
       "<Figure size 1440x360 with 3 Axes>"
      ]
     },
     "metadata": {
      "needs_background": "light"
     },
     "output_type": "display_data"
    }
   ],
   "source": [
    "fig, ax = plt.subplots(1, 3, figsize=(20, 5))\n",
    "\n",
    "index = 0\n",
    "\n",
    "for sign in enumerated:\n",
    "    sns.countplot(x=sign, data = dataraw, ax=ax[index])\n",
    "    index = index + 1"
   ]
  },
  {
   "cell_type": "markdown",
   "id": "dfbec3d9",
   "metadata": {},
   "source": [
    "На полученных графиках выделяется признак time_signature, который принимает значения 0, 1 и 5 очень малое количество раз:"
   ]
  },
  {
   "cell_type": "code",
   "execution_count": 10,
   "id": "31392fa3",
   "metadata": {},
   "outputs": [
    {
     "name": "stdout",
     "output_type": "stream",
     "text": [
      "0 : 3\n",
      "1 : 371\n",
      "2 : 0\n",
      "3 : 3840\n",
      "4 : 36297\n"
     ]
    }
   ],
   "source": [
    "for time_signature in range(0,5):\n",
    "    print(time_signature, \":\", np.sum(dataraw['time_signature'] == time_signature))"
   ]
  },
  {
   "cell_type": "markdown",
   "id": "a0a349b7",
   "metadata": {},
   "source": [
    "Признаки с малым количеством вхождений (< 50) можно отбросить:"
   ]
  },
  {
   "cell_type": "code",
   "execution_count": 11,
   "id": "543dca77",
   "metadata": {
    "scrolled": true
   },
   "outputs": [
    {
     "name": "stdout",
     "output_type": "stream",
     "text": [
      "0 : 0\n",
      "1 : 371\n",
      "2 : 0\n",
      "3 : 3840\n",
      "4 : 36297\n"
     ]
    }
   ],
   "source": [
    "for time_signature in range(0,5):\n",
    "    if(np.sum(dataraw['time_signature'] == time_signature) < 50):\n",
    "        dataraw = dataraw[dataraw['time_signature'] != time_signature]\n",
    "        \n",
    "for time_signature in range(0,5):\n",
    "    print(time_signature, \":\", np.sum(dataraw['time_signature'] == time_signature))"
   ]
  },
  {
   "cell_type": "markdown",
   "id": "16ad59f1",
   "metadata": {},
   "source": [
    "Выберем композиции, которые стали хитами и наоборот:"
   ]
  },
  {
   "cell_type": "code",
   "execution_count": 12,
   "id": "b6c37027",
   "metadata": {},
   "outputs": [
    {
     "data": {
      "text/html": [
       "<div>\n",
       "<style scoped>\n",
       "    .dataframe tbody tr th:only-of-type {\n",
       "        vertical-align: middle;\n",
       "    }\n",
       "\n",
       "    .dataframe tbody tr th {\n",
       "        vertical-align: top;\n",
       "    }\n",
       "\n",
       "    .dataframe thead th {\n",
       "        text-align: right;\n",
       "    }\n",
       "</style>\n",
       "<table border=\"1\" class=\"dataframe\">\n",
       "  <thead>\n",
       "    <tr style=\"text-align: right;\">\n",
       "      <th></th>\n",
       "      <th>track</th>\n",
       "      <th>artist</th>\n",
       "      <th>uri</th>\n",
       "      <th>danceability</th>\n",
       "      <th>energy</th>\n",
       "      <th>key</th>\n",
       "      <th>loudness</th>\n",
       "      <th>mode</th>\n",
       "      <th>speechiness</th>\n",
       "      <th>acousticness</th>\n",
       "      <th>instrumentalness</th>\n",
       "      <th>liveness</th>\n",
       "      <th>valence</th>\n",
       "      <th>tempo</th>\n",
       "      <th>duration_ms</th>\n",
       "      <th>time_signature</th>\n",
       "      <th>chorus_hit</th>\n",
       "      <th>sections</th>\n",
       "      <th>target</th>\n",
       "    </tr>\n",
       "  </thead>\n",
       "  <tbody>\n",
       "    <tr>\n",
       "      <th>0</th>\n",
       "      <td>Lucky Man</td>\n",
       "      <td>Montgomery Gentry</td>\n",
       "      <td>spotify:track:4GiXBCUF7H6YfNQsnBRIzl</td>\n",
       "      <td>0.578</td>\n",
       "      <td>0.471</td>\n",
       "      <td>4</td>\n",
       "      <td>-7.270</td>\n",
       "      <td>1</td>\n",
       "      <td>0.0289</td>\n",
       "      <td>0.3680</td>\n",
       "      <td>0.0</td>\n",
       "      <td>0.1590</td>\n",
       "      <td>0.532</td>\n",
       "      <td>133.061</td>\n",
       "      <td>196707</td>\n",
       "      <td>4</td>\n",
       "      <td>30.88059</td>\n",
       "      <td>13</td>\n",
       "      <td>1</td>\n",
       "    </tr>\n",
       "    <tr>\n",
       "      <th>1</th>\n",
       "      <td>On The Hotline</td>\n",
       "      <td>Pretty Ricky</td>\n",
       "      <td>spotify:track:1zyqZONW985Cs4osz9wlsu</td>\n",
       "      <td>0.704</td>\n",
       "      <td>0.854</td>\n",
       "      <td>10</td>\n",
       "      <td>-5.477</td>\n",
       "      <td>0</td>\n",
       "      <td>0.1830</td>\n",
       "      <td>0.0185</td>\n",
       "      <td>0.0</td>\n",
       "      <td>0.1480</td>\n",
       "      <td>0.688</td>\n",
       "      <td>92.988</td>\n",
       "      <td>242587</td>\n",
       "      <td>4</td>\n",
       "      <td>41.51106</td>\n",
       "      <td>10</td>\n",
       "      <td>1</td>\n",
       "    </tr>\n",
       "    <tr>\n",
       "      <th>4</th>\n",
       "      <td>I Got A Feelin'</td>\n",
       "      <td>Billy Currington</td>\n",
       "      <td>spotify:track:1tF370eYXUcWwkIvaq3IGz</td>\n",
       "      <td>0.630</td>\n",
       "      <td>0.764</td>\n",
       "      <td>2</td>\n",
       "      <td>-4.353</td>\n",
       "      <td>1</td>\n",
       "      <td>0.0275</td>\n",
       "      <td>0.3630</td>\n",
       "      <td>0.0</td>\n",
       "      <td>0.1250</td>\n",
       "      <td>0.631</td>\n",
       "      <td>112.098</td>\n",
       "      <td>193760</td>\n",
       "      <td>4</td>\n",
       "      <td>22.62384</td>\n",
       "      <td>10</td>\n",
       "      <td>1</td>\n",
       "    </tr>\n",
       "    <tr>\n",
       "      <th>7</th>\n",
       "      <td>Where I Come From</td>\n",
       "      <td>Alan Jackson</td>\n",
       "      <td>spotify:track:6ej1QJ8eIYmhsyTlvgDajy</td>\n",
       "      <td>0.726</td>\n",
       "      <td>0.631</td>\n",
       "      <td>11</td>\n",
       "      <td>-8.136</td>\n",
       "      <td>0</td>\n",
       "      <td>0.0334</td>\n",
       "      <td>0.2200</td>\n",
       "      <td>0.0</td>\n",
       "      <td>0.1930</td>\n",
       "      <td>0.746</td>\n",
       "      <td>124.711</td>\n",
       "      <td>239240</td>\n",
       "      <td>4</td>\n",
       "      <td>35.59732</td>\n",
       "      <td>10</td>\n",
       "      <td>1</td>\n",
       "    </tr>\n",
       "    <tr>\n",
       "      <th>8</th>\n",
       "      <td>Nothin' To Die For</td>\n",
       "      <td>Tim McGraw</td>\n",
       "      <td>spotify:track:3lRSz6HujrSy9b3LXg2Kq9</td>\n",
       "      <td>0.481</td>\n",
       "      <td>0.786</td>\n",
       "      <td>10</td>\n",
       "      <td>-5.654</td>\n",
       "      <td>1</td>\n",
       "      <td>0.0288</td>\n",
       "      <td>0.0538</td>\n",
       "      <td>0.0</td>\n",
       "      <td>0.0759</td>\n",
       "      <td>0.389</td>\n",
       "      <td>153.105</td>\n",
       "      <td>253640</td>\n",
       "      <td>4</td>\n",
       "      <td>19.65701</td>\n",
       "      <td>11</td>\n",
       "      <td>1</td>\n",
       "    </tr>\n",
       "  </tbody>\n",
       "</table>\n",
       "</div>"
      ],
      "text/plain": [
       "                track             artist  \\\n",
       "0           Lucky Man  Montgomery Gentry   \n",
       "1      On The Hotline       Pretty Ricky   \n",
       "4     I Got A Feelin'   Billy Currington   \n",
       "7   Where I Come From       Alan Jackson   \n",
       "8  Nothin' To Die For         Tim McGraw   \n",
       "\n",
       "                                    uri  danceability  energy  key  loudness  \\\n",
       "0  spotify:track:4GiXBCUF7H6YfNQsnBRIzl         0.578   0.471    4    -7.270   \n",
       "1  spotify:track:1zyqZONW985Cs4osz9wlsu         0.704   0.854   10    -5.477   \n",
       "4  spotify:track:1tF370eYXUcWwkIvaq3IGz         0.630   0.764    2    -4.353   \n",
       "7  spotify:track:6ej1QJ8eIYmhsyTlvgDajy         0.726   0.631   11    -8.136   \n",
       "8  spotify:track:3lRSz6HujrSy9b3LXg2Kq9         0.481   0.786   10    -5.654   \n",
       "\n",
       "   mode  speechiness  acousticness  instrumentalness  liveness  valence  \\\n",
       "0     1       0.0289        0.3680               0.0    0.1590    0.532   \n",
       "1     0       0.1830        0.0185               0.0    0.1480    0.688   \n",
       "4     1       0.0275        0.3630               0.0    0.1250    0.631   \n",
       "7     0       0.0334        0.2200               0.0    0.1930    0.746   \n",
       "8     1       0.0288        0.0538               0.0    0.0759    0.389   \n",
       "\n",
       "     tempo  duration_ms  time_signature  chorus_hit  sections  target  \n",
       "0  133.061       196707               4    30.88059        13       1  \n",
       "1   92.988       242587               4    41.51106        10       1  \n",
       "4  112.098       193760               4    22.62384        10       1  \n",
       "7  124.711       239240               4    35.59732        10       1  \n",
       "8  153.105       253640               4    19.65701        11       1  "
      ]
     },
     "execution_count": 12,
     "metadata": {},
     "output_type": "execute_result"
    }
   ],
   "source": [
    "hitlist = dataraw[dataraw['target'] == 1]\n",
    "nohitlist = dataraw[dataraw['target'] == 0]\n",
    "\n",
    "hitlist.head()"
   ]
  },
  {
   "cell_type": "markdown",
   "id": "fb5534c0",
   "metadata": {},
   "source": [
    "Таблица корреляции признаков:"
   ]
  },
  {
   "cell_type": "code",
   "execution_count": 13,
   "id": "3603ce2e",
   "metadata": {
    "scrolled": false
   },
   "outputs": [
    {
     "data": {
      "text/html": [
       "<div>\n",
       "<style scoped>\n",
       "    .dataframe tbody tr th:only-of-type {\n",
       "        vertical-align: middle;\n",
       "    }\n",
       "\n",
       "    .dataframe tbody tr th {\n",
       "        vertical-align: top;\n",
       "    }\n",
       "\n",
       "    .dataframe thead th {\n",
       "        text-align: right;\n",
       "    }\n",
       "</style>\n",
       "<table border=\"1\" class=\"dataframe\">\n",
       "  <thead>\n",
       "    <tr style=\"text-align: right;\">\n",
       "      <th></th>\n",
       "      <th>danceability</th>\n",
       "      <th>energy</th>\n",
       "      <th>key</th>\n",
       "      <th>loudness</th>\n",
       "      <th>mode</th>\n",
       "      <th>speechiness</th>\n",
       "      <th>acousticness</th>\n",
       "      <th>instrumentalness</th>\n",
       "      <th>liveness</th>\n",
       "      <th>valence</th>\n",
       "      <th>tempo</th>\n",
       "      <th>duration_ms</th>\n",
       "      <th>time_signature</th>\n",
       "      <th>chorus_hit</th>\n",
       "      <th>sections</th>\n",
       "      <th>target</th>\n",
       "    </tr>\n",
       "  </thead>\n",
       "  <tbody>\n",
       "    <tr>\n",
       "      <th>danceability</th>\n",
       "      <td>1.000000</td>\n",
       "      <td>0.206139</td>\n",
       "      <td>0.015554</td>\n",
       "      <td>0.274179</td>\n",
       "      <td>-0.032801</td>\n",
       "      <td>0.156455</td>\n",
       "      <td>-0.261254</td>\n",
       "      <td>-0.302004</td>\n",
       "      <td>-0.115241</td>\n",
       "      <td>0.553728</td>\n",
       "      <td>-0.067004</td>\n",
       "      <td>-0.063100</td>\n",
       "      <td>0.190761</td>\n",
       "      <td>-0.036005</td>\n",
       "      <td>-0.058723</td>\n",
       "      <td>0.346165</td>\n",
       "    </tr>\n",
       "    <tr>\n",
       "      <th>energy</th>\n",
       "      <td>0.206139</td>\n",
       "      <td>1.000000</td>\n",
       "      <td>0.022597</td>\n",
       "      <td>0.772648</td>\n",
       "      <td>-0.033794</td>\n",
       "      <td>0.122393</td>\n",
       "      <td>-0.715048</td>\n",
       "      <td>-0.208169</td>\n",
       "      <td>0.157794</td>\n",
       "      <td>0.341415</td>\n",
       "      <td>0.224004</td>\n",
       "      <td>0.011814</td>\n",
       "      <td>0.196249</td>\n",
       "      <td>0.009463</td>\n",
       "      <td>-0.040254</td>\n",
       "      <td>0.177154</td>\n",
       "    </tr>\n",
       "    <tr>\n",
       "      <th>key</th>\n",
       "      <td>0.015554</td>\n",
       "      <td>0.022597</td>\n",
       "      <td>1.000000</td>\n",
       "      <td>0.008485</td>\n",
       "      <td>-0.140427</td>\n",
       "      <td>0.026551</td>\n",
       "      <td>-0.024257</td>\n",
       "      <td>-0.013090</td>\n",
       "      <td>0.000643</td>\n",
       "      <td>0.007841</td>\n",
       "      <td>0.001304</td>\n",
       "      <td>0.015513</td>\n",
       "      <td>0.005239</td>\n",
       "      <td>0.010302</td>\n",
       "      <td>0.006813</td>\n",
       "      <td>0.009868</td>\n",
       "    </tr>\n",
       "    <tr>\n",
       "      <th>loudness</th>\n",
       "      <td>0.274179</td>\n",
       "      <td>0.772648</td>\n",
       "      <td>0.008485</td>\n",
       "      <td>1.000000</td>\n",
       "      <td>0.000598</td>\n",
       "      <td>0.069247</td>\n",
       "      <td>-0.566555</td>\n",
       "      <td>-0.374328</td>\n",
       "      <td>0.086649</td>\n",
       "      <td>0.271713</td>\n",
       "      <td>0.169489</td>\n",
       "      <td>-0.049914</td>\n",
       "      <td>0.165302</td>\n",
       "      <td>-0.013336</td>\n",
       "      <td>-0.080099</td>\n",
       "      <td>0.285976</td>\n",
       "    </tr>\n",
       "    <tr>\n",
       "      <th>mode</th>\n",
       "      <td>-0.032801</td>\n",
       "      <td>-0.033794</td>\n",
       "      <td>-0.140427</td>\n",
       "      <td>0.000598</td>\n",
       "      <td>1.000000</td>\n",
       "      <td>-0.059675</td>\n",
       "      <td>0.049998</td>\n",
       "      <td>-0.076020</td>\n",
       "      <td>0.008943</td>\n",
       "      <td>0.035626</td>\n",
       "      <td>0.026951</td>\n",
       "      <td>-0.074841</td>\n",
       "      <td>-0.009552</td>\n",
       "      <td>-0.022715</td>\n",
       "      <td>-0.057111</td>\n",
       "      <td>0.079689</td>\n",
       "    </tr>\n",
       "    <tr>\n",
       "      <th>speechiness</th>\n",
       "      <td>0.156455</td>\n",
       "      <td>0.122393</td>\n",
       "      <td>0.026551</td>\n",
       "      <td>0.069247</td>\n",
       "      <td>-0.059675</td>\n",
       "      <td>1.000000</td>\n",
       "      <td>-0.083902</td>\n",
       "      <td>-0.084103</td>\n",
       "      <td>0.131516</td>\n",
       "      <td>0.001500</td>\n",
       "      <td>0.036795</td>\n",
       "      <td>0.007622</td>\n",
       "      <td>0.021022</td>\n",
       "      <td>0.012885</td>\n",
       "      <td>-0.008646</td>\n",
       "      <td>-0.040810</td>\n",
       "    </tr>\n",
       "    <tr>\n",
       "      <th>acousticness</th>\n",
       "      <td>-0.261254</td>\n",
       "      <td>-0.715048</td>\n",
       "      <td>-0.024257</td>\n",
       "      <td>-0.566555</td>\n",
       "      <td>0.049998</td>\n",
       "      <td>-0.083902</td>\n",
       "      <td>1.000000</td>\n",
       "      <td>0.204157</td>\n",
       "      <td>-0.030784</td>\n",
       "      <td>-0.195281</td>\n",
       "      <td>-0.179635</td>\n",
       "      <td>-0.070257</td>\n",
       "      <td>-0.188286</td>\n",
       "      <td>-0.012256</td>\n",
       "      <td>-0.016803</td>\n",
       "      <td>-0.246072</td>\n",
       "    </tr>\n",
       "    <tr>\n",
       "      <th>instrumentalness</th>\n",
       "      <td>-0.302004</td>\n",
       "      <td>-0.208169</td>\n",
       "      <td>-0.013090</td>\n",
       "      <td>-0.374328</td>\n",
       "      <td>-0.076020</td>\n",
       "      <td>-0.084103</td>\n",
       "      <td>0.204157</td>\n",
       "      <td>1.000000</td>\n",
       "      <td>-0.050564</td>\n",
       "      <td>-0.287094</td>\n",
       "      <td>-0.053672</td>\n",
       "      <td>0.106548</td>\n",
       "      <td>-0.078250</td>\n",
       "      <td>0.048649</td>\n",
       "      <td>0.081184</td>\n",
       "      <td>-0.407633</td>\n",
       "    </tr>\n",
       "    <tr>\n",
       "      <th>liveness</th>\n",
       "      <td>-0.115241</td>\n",
       "      <td>0.157794</td>\n",
       "      <td>0.000643</td>\n",
       "      <td>0.086649</td>\n",
       "      <td>0.008943</td>\n",
       "      <td>0.131516</td>\n",
       "      <td>-0.030784</td>\n",
       "      <td>-0.050564</td>\n",
       "      <td>1.000000</td>\n",
       "      <td>0.000793</td>\n",
       "      <td>0.024947</td>\n",
       "      <td>0.005343</td>\n",
       "      <td>0.004805</td>\n",
       "      <td>0.038067</td>\n",
       "      <td>-0.011733</td>\n",
       "      <td>-0.051499</td>\n",
       "    </tr>\n",
       "    <tr>\n",
       "      <th>valence</th>\n",
       "      <td>0.553728</td>\n",
       "      <td>0.341415</td>\n",
       "      <td>0.007841</td>\n",
       "      <td>0.271713</td>\n",
       "      <td>0.035626</td>\n",
       "      <td>0.001500</td>\n",
       "      <td>-0.195281</td>\n",
       "      <td>-0.287094</td>\n",
       "      <td>0.000793</td>\n",
       "      <td>1.000000</td>\n",
       "      <td>0.107627</td>\n",
       "      <td>-0.172233</td>\n",
       "      <td>0.154901</td>\n",
       "      <td>-0.058942</td>\n",
       "      <td>-0.133618</td>\n",
       "      <td>0.251149</td>\n",
       "    </tr>\n",
       "    <tr>\n",
       "      <th>tempo</th>\n",
       "      <td>-0.067004</td>\n",
       "      <td>0.224004</td>\n",
       "      <td>0.001304</td>\n",
       "      <td>0.169489</td>\n",
       "      <td>0.026951</td>\n",
       "      <td>0.036795</td>\n",
       "      <td>-0.179635</td>\n",
       "      <td>-0.053672</td>\n",
       "      <td>0.024947</td>\n",
       "      <td>0.107627</td>\n",
       "      <td>1.000000</td>\n",
       "      <td>-0.024385</td>\n",
       "      <td>0.006201</td>\n",
       "      <td>-0.055955</td>\n",
       "      <td>0.024814</td>\n",
       "      <td>0.032697</td>\n",
       "    </tr>\n",
       "    <tr>\n",
       "      <th>duration_ms</th>\n",
       "      <td>-0.063100</td>\n",
       "      <td>0.011814</td>\n",
       "      <td>0.015513</td>\n",
       "      <td>-0.049914</td>\n",
       "      <td>-0.074841</td>\n",
       "      <td>0.007622</td>\n",
       "      <td>-0.070257</td>\n",
       "      <td>0.106548</td>\n",
       "      <td>0.005343</td>\n",
       "      <td>-0.172233</td>\n",
       "      <td>-0.024385</td>\n",
       "      <td>1.000000</td>\n",
       "      <td>0.018301</td>\n",
       "      <td>0.093927</td>\n",
       "      <td>0.888953</td>\n",
       "      <td>-0.073822</td>\n",
       "    </tr>\n",
       "    <tr>\n",
       "      <th>time_signature</th>\n",
       "      <td>0.190761</td>\n",
       "      <td>0.196249</td>\n",
       "      <td>0.005239</td>\n",
       "      <td>0.165302</td>\n",
       "      <td>-0.009552</td>\n",
       "      <td>0.021022</td>\n",
       "      <td>-0.188286</td>\n",
       "      <td>-0.078250</td>\n",
       "      <td>0.004805</td>\n",
       "      <td>0.154901</td>\n",
       "      <td>0.006201</td>\n",
       "      <td>0.018301</td>\n",
       "      <td>1.000000</td>\n",
       "      <td>-0.010304</td>\n",
       "      <td>0.008108</td>\n",
       "      <td>0.104989</td>\n",
       "    </tr>\n",
       "    <tr>\n",
       "      <th>chorus_hit</th>\n",
       "      <td>-0.036005</td>\n",
       "      <td>0.009463</td>\n",
       "      <td>0.010302</td>\n",
       "      <td>-0.013336</td>\n",
       "      <td>-0.022715</td>\n",
       "      <td>0.012885</td>\n",
       "      <td>-0.012256</td>\n",
       "      <td>0.048649</td>\n",
       "      <td>0.038067</td>\n",
       "      <td>-0.058942</td>\n",
       "      <td>-0.055955</td>\n",
       "      <td>0.093927</td>\n",
       "      <td>-0.010304</td>\n",
       "      <td>1.000000</td>\n",
       "      <td>-0.085899</td>\n",
       "      <td>-0.046281</td>\n",
       "    </tr>\n",
       "    <tr>\n",
       "      <th>sections</th>\n",
       "      <td>-0.058723</td>\n",
       "      <td>-0.040254</td>\n",
       "      <td>0.006813</td>\n",
       "      <td>-0.080099</td>\n",
       "      <td>-0.057111</td>\n",
       "      <td>-0.008646</td>\n",
       "      <td>-0.016803</td>\n",
       "      <td>0.081184</td>\n",
       "      <td>-0.011733</td>\n",
       "      <td>-0.133618</td>\n",
       "      <td>0.024814</td>\n",
       "      <td>0.888953</td>\n",
       "      <td>0.008108</td>\n",
       "      <td>-0.085899</td>\n",
       "      <td>1.000000</td>\n",
       "      <td>-0.060002</td>\n",
       "    </tr>\n",
       "    <tr>\n",
       "      <th>target</th>\n",
       "      <td>0.346165</td>\n",
       "      <td>0.177154</td>\n",
       "      <td>0.009868</td>\n",
       "      <td>0.285976</td>\n",
       "      <td>0.079689</td>\n",
       "      <td>-0.040810</td>\n",
       "      <td>-0.246072</td>\n",
       "      <td>-0.407633</td>\n",
       "      <td>-0.051499</td>\n",
       "      <td>0.251149</td>\n",
       "      <td>0.032697</td>\n",
       "      <td>-0.073822</td>\n",
       "      <td>0.104989</td>\n",
       "      <td>-0.046281</td>\n",
       "      <td>-0.060002</td>\n",
       "      <td>1.000000</td>\n",
       "    </tr>\n",
       "  </tbody>\n",
       "</table>\n",
       "</div>"
      ],
      "text/plain": [
       "                  danceability    energy       key  loudness      mode  \\\n",
       "danceability          1.000000  0.206139  0.015554  0.274179 -0.032801   \n",
       "energy                0.206139  1.000000  0.022597  0.772648 -0.033794   \n",
       "key                   0.015554  0.022597  1.000000  0.008485 -0.140427   \n",
       "loudness              0.274179  0.772648  0.008485  1.000000  0.000598   \n",
       "mode                 -0.032801 -0.033794 -0.140427  0.000598  1.000000   \n",
       "speechiness           0.156455  0.122393  0.026551  0.069247 -0.059675   \n",
       "acousticness         -0.261254 -0.715048 -0.024257 -0.566555  0.049998   \n",
       "instrumentalness     -0.302004 -0.208169 -0.013090 -0.374328 -0.076020   \n",
       "liveness             -0.115241  0.157794  0.000643  0.086649  0.008943   \n",
       "valence               0.553728  0.341415  0.007841  0.271713  0.035626   \n",
       "tempo                -0.067004  0.224004  0.001304  0.169489  0.026951   \n",
       "duration_ms          -0.063100  0.011814  0.015513 -0.049914 -0.074841   \n",
       "time_signature        0.190761  0.196249  0.005239  0.165302 -0.009552   \n",
       "chorus_hit           -0.036005  0.009463  0.010302 -0.013336 -0.022715   \n",
       "sections             -0.058723 -0.040254  0.006813 -0.080099 -0.057111   \n",
       "target                0.346165  0.177154  0.009868  0.285976  0.079689   \n",
       "\n",
       "                  speechiness  acousticness  instrumentalness  liveness  \\\n",
       "danceability         0.156455     -0.261254         -0.302004 -0.115241   \n",
       "energy               0.122393     -0.715048         -0.208169  0.157794   \n",
       "key                  0.026551     -0.024257         -0.013090  0.000643   \n",
       "loudness             0.069247     -0.566555         -0.374328  0.086649   \n",
       "mode                -0.059675      0.049998         -0.076020  0.008943   \n",
       "speechiness          1.000000     -0.083902         -0.084103  0.131516   \n",
       "acousticness        -0.083902      1.000000          0.204157 -0.030784   \n",
       "instrumentalness    -0.084103      0.204157          1.000000 -0.050564   \n",
       "liveness             0.131516     -0.030784         -0.050564  1.000000   \n",
       "valence              0.001500     -0.195281         -0.287094  0.000793   \n",
       "tempo                0.036795     -0.179635         -0.053672  0.024947   \n",
       "duration_ms          0.007622     -0.070257          0.106548  0.005343   \n",
       "time_signature       0.021022     -0.188286         -0.078250  0.004805   \n",
       "chorus_hit           0.012885     -0.012256          0.048649  0.038067   \n",
       "sections            -0.008646     -0.016803          0.081184 -0.011733   \n",
       "target              -0.040810     -0.246072         -0.407633 -0.051499   \n",
       "\n",
       "                   valence     tempo  duration_ms  time_signature  chorus_hit  \\\n",
       "danceability      0.553728 -0.067004    -0.063100        0.190761   -0.036005   \n",
       "energy            0.341415  0.224004     0.011814        0.196249    0.009463   \n",
       "key               0.007841  0.001304     0.015513        0.005239    0.010302   \n",
       "loudness          0.271713  0.169489    -0.049914        0.165302   -0.013336   \n",
       "mode              0.035626  0.026951    -0.074841       -0.009552   -0.022715   \n",
       "speechiness       0.001500  0.036795     0.007622        0.021022    0.012885   \n",
       "acousticness     -0.195281 -0.179635    -0.070257       -0.188286   -0.012256   \n",
       "instrumentalness -0.287094 -0.053672     0.106548       -0.078250    0.048649   \n",
       "liveness          0.000793  0.024947     0.005343        0.004805    0.038067   \n",
       "valence           1.000000  0.107627    -0.172233        0.154901   -0.058942   \n",
       "tempo             0.107627  1.000000    -0.024385        0.006201   -0.055955   \n",
       "duration_ms      -0.172233 -0.024385     1.000000        0.018301    0.093927   \n",
       "time_signature    0.154901  0.006201     0.018301        1.000000   -0.010304   \n",
       "chorus_hit       -0.058942 -0.055955     0.093927       -0.010304    1.000000   \n",
       "sections         -0.133618  0.024814     0.888953        0.008108   -0.085899   \n",
       "target            0.251149  0.032697    -0.073822        0.104989   -0.046281   \n",
       "\n",
       "                  sections    target  \n",
       "danceability     -0.058723  0.346165  \n",
       "energy           -0.040254  0.177154  \n",
       "key               0.006813  0.009868  \n",
       "loudness         -0.080099  0.285976  \n",
       "mode             -0.057111  0.079689  \n",
       "speechiness      -0.008646 -0.040810  \n",
       "acousticness     -0.016803 -0.246072  \n",
       "instrumentalness  0.081184 -0.407633  \n",
       "liveness         -0.011733 -0.051499  \n",
       "valence          -0.133618  0.251149  \n",
       "tempo             0.024814  0.032697  \n",
       "duration_ms       0.888953 -0.073822  \n",
       "time_signature    0.008108  0.104989  \n",
       "chorus_hit       -0.085899 -0.046281  \n",
       "sections          1.000000 -0.060002  \n",
       "target           -0.060002  1.000000  "
      ]
     },
     "execution_count": 13,
     "metadata": {},
     "output_type": "execute_result"
    }
   ],
   "source": [
    "datacorr = dataraw.corr()\n",
    "datacorr"
   ]
  },
  {
   "cell_type": "code",
   "execution_count": 14,
   "id": "300f57c5",
   "metadata": {},
   "outputs": [
    {
     "data": {
      "image/png": "[encoded data removed]",
      "text/plain": [
       "<Figure size 1080x1080 with 2 Axes>"
      ]
     },
     "metadata": {
      "needs_background": "light"
     },
     "output_type": "display_data"
    }
   ],
   "source": [
    "f, ax = plt.subplots(figsize=(15, 15))\n",
    "\n",
    "ax = sns.heatmap(datacorr, center=0, square=True)\n",
    "pass"
   ]
  },
  {
   "cell_type": "markdown",
   "id": "418ac4ae",
   "metadata": {},
   "source": [
    "Выделим наибольшую корреляцию c target среди остальных признаков:"
   ]
  },
  {
   "cell_type": "code",
   "execution_count": 15,
   "id": "cca955c0",
   "metadata": {},
   "outputs": [
    {
     "data": {
      "text/html": [
       "<div>\n",
       "<style scoped>\n",
       "    .dataframe tbody tr th:only-of-type {\n",
       "        vertical-align: middle;\n",
       "    }\n",
       "\n",
       "    .dataframe tbody tr th {\n",
       "        vertical-align: top;\n",
       "    }\n",
       "\n",
       "    .dataframe thead th {\n",
       "        text-align: right;\n",
       "    }\n",
       "</style>\n",
       "<table border=\"1\" class=\"dataframe\">\n",
       "  <thead>\n",
       "    <tr style=\"text-align: right;\">\n",
       "      <th></th>\n",
       "      <th>Корреляция с target</th>\n",
       "    </tr>\n",
       "  </thead>\n",
       "  <tbody>\n",
       "    <tr>\n",
       "      <th>danceability</th>\n",
       "      <td>0.346165</td>\n",
       "    </tr>\n",
       "    <tr>\n",
       "      <th>loudness</th>\n",
       "      <td>0.285976</td>\n",
       "    </tr>\n",
       "    <tr>\n",
       "      <th>acousticness</th>\n",
       "      <td>-0.246072</td>\n",
       "    </tr>\n",
       "    <tr>\n",
       "      <th>instrumentalness</th>\n",
       "      <td>-0.407633</td>\n",
       "    </tr>\n",
       "    <tr>\n",
       "      <th>valence</th>\n",
       "      <td>0.251149</td>\n",
       "    </tr>\n",
       "  </tbody>\n",
       "</table>\n",
       "</div>"
      ],
      "text/plain": [
       "                  Корреляция с target\n",
       "danceability                 0.346165\n",
       "loudness                     0.285976\n",
       "acousticness                -0.246072\n",
       "instrumentalness            -0.407633\n",
       "valence                      0.251149"
      ]
     },
     "execution_count": 15,
     "metadata": {},
     "output_type": "execute_result"
    }
   ],
   "source": [
    "epsilon = 0.2\n",
    "\n",
    "datacorr_tmp = datacorr[abs(datacorr) > epsilon]['target'].sort_values(key=lambda x: abs(x))\n",
    "\n",
    "index = 0\n",
    "datacorr_max = []\n",
    "datacorr_sgn = []\n",
    "for sign in signs:\n",
    "    if (math.isnan(datacorr_tmp[sign]) == 0):\n",
    "        datacorr_sgn.append(sign)\n",
    "        datacorr_max.append(datacorr_tmp[sign])\n",
    "\n",
    "pd.DataFrame(datacorr_max, datacorr_sgn, ['Корреляция с target'])"
   ]
  },
  {
   "cell_type": "markdown",
   "id": "e47e16f2",
   "metadata": {},
   "source": [
    "Из полученной таблицы можно увидеть отрицательную корреляцию признаков. Чем ближе значение корреляции музыкальной композиции к -1, тем выше вероятность провала музыкальной композиции."
   ]
  },
  {
   "cell_type": "code",
   "execution_count": 16,
   "id": "04184a6d",
   "metadata": {},
   "outputs": [
    {
     "data": {
      "image/png": "[encoded data removed]",
      "text/plain": [
       "<Figure size 402.375x360 with 1 Axes>"
      ]
     },
     "metadata": {
      "needs_background": "light"
     },
     "output_type": "display_data"
    }
   ],
   "source": [
    "sns.displot(dataraw, x='instrumentalness', bins=25, hue='target')\n",
    "pass"
   ]
  },
  {
   "cell_type": "markdown",
   "id": "1ca09383",
   "metadata": {},
   "source": [
    "Выведем гистаграммы признаков музыкальных композиций:"
   ]
  },
  {
   "cell_type": "code",
   "execution_count": 17,
   "id": "2ad6dd8c",
   "metadata": {},
   "outputs": [
    {
     "data": {
      "image/png": "[encoded data removed]",
      "text/plain": [
       "<Figure size 432x288 with 1 Axes>"
      ]
     },
     "metadata": {
      "needs_background": "light"
     },
     "output_type": "display_data"
    },
    {
     "data": {
      "image/png": "[encoded data removed]",
      "text/plain": [
       "<Figure size 432x288 with 1 Axes>"
      ]
     },
     "metadata": {
      "needs_background": "light"
     },
     "output_type": "display_data"
    },
    {
     "data": {
      "image/png": "[encoded data removed]",
      "text/plain": [
       "<Figure size 432x288 with 1 Axes>"
      ]
     },
     "metadata": {
      "needs_background": "light"
     },
     "output_type": "display_data"
    },
    {
     "data": {
      "image/png": "[encoded data removed]",
      "text/plain": [
       "<Figure size 432x288 with 1 Axes>"
      ]
     },
     "metadata": {
      "needs_background": "light"
     },
     "output_type": "display_data"
    },
    {
     "data": {
      "image/png": "[encoded data removed]",
      "text/plain": [
       "<Figure size 432x288 with 1 Axes>"
      ]
     },
     "metadata": {
      "needs_background": "light"
     },
     "output_type": "display_data"
    },
    {
     "data": {
      "image/png": "[encoded data removed]",
      "text/plain": [
       "<Figure size 432x288 with 1 Axes>"
      ]
     },
     "metadata": {
      "needs_background": "light"
     },
     "output_type": "display_data"
    },
    {
     "data": {
      "image/png": "[encoded data removed]",
      "text/plain": [
       "<Figure size 432x288 with 1 Axes>"
      ]
     },
     "metadata": {
      "needs_background": "light"
     },
     "output_type": "display_data"
    },
    {
     "data": {
      "image/png": "[encoded data removed]",
      "text/plain": [
       "<Figure size 432x288 with 1 Axes>"
      ]
     },
     "metadata": {
      "needs_background": "light"
     },
     "output_type": "display_data"
    },
    {
     "data": {
      "image/png": "[encoded data removed]",
      "text/plain": [
       "<Figure size 432x288 with 1 Axes>"
      ]
     },
     "metadata": {
      "needs_background": "light"
     },
     "output_type": "display_data"
    },
    {
     "data": {
      "image/png": "[encoded data removed]",
      "text/plain": [
       "<Figure size 432x288 with 1 Axes>"
      ]
     },
     "metadata": {
      "needs_background": "light"
     },
     "output_type": "display_data"
    }
   ],
   "source": [
    "for sign in signs:\n",
    "    data = dataraw.copy();\n",
    "    data[sign].hist()\n",
    "    plt.xlabel(sign)\n",
    "    plt.ylabel(\"count\")\n",
    "    plt.show()\n",
    "    "
   ]
  },
  {
   "cell_type": "markdown",
   "id": "ee2c6022",
   "metadata": {},
   "source": [
    "Гистограмма loudness говорит о наличии музыкальных композиций громкостью более 0 dB. Их количество:"
   ]
  },
  {
   "cell_type": "code",
   "execution_count": 18,
   "id": "74cd6e54",
   "metadata": {},
   "outputs": [
    {
     "data": {
      "text/plain": [
       "6"
      ]
     },
     "execution_count": 18,
     "metadata": {},
     "output_type": "execute_result"
    }
   ],
   "source": [
    "np.sum(dataraw['loudness'] > 0)"
   ]
  },
  {
   "cell_type": "markdown",
   "id": "da00c129",
   "metadata": {},
   "source": [
    "Гистограмма speechiness говорит о наличии музыкальных композиций с оценкой более 0.6 единиц. Их количество:"
   ]
  },
  {
   "cell_type": "code",
   "execution_count": 19,
   "id": "01520aae",
   "metadata": {},
   "outputs": [
    {
     "data": {
      "text/plain": [
       "164"
      ]
     },
     "execution_count": 19,
     "metadata": {},
     "output_type": "execute_result"
    }
   ],
   "source": [
    "np.sum(dataraw['speechiness'] > 0.6)"
   ]
  },
  {
   "cell_type": "markdown",
   "id": "29a1d1bb",
   "metadata": {},
   "source": [
    "Гистограмма tempo говорит о наличии музыкальных композиций с темпом менее 50 ударов в сек. Их количество:"
   ]
  },
  {
   "cell_type": "code",
   "execution_count": 20,
   "id": "fd94138f",
   "metadata": {},
   "outputs": [
    {
     "data": {
      "text/plain": [
       "42"
      ]
     },
     "execution_count": 20,
     "metadata": {},
     "output_type": "execute_result"
    }
   ],
   "source": [
    "np.sum(dataraw['tempo'] < 50)"
   ]
  },
  {
   "cell_type": "markdown",
   "id": "04d54fbe",
   "metadata": {},
   "source": [
    "Гистограмма duration_ms говорит о наличии музыкальных композиций протодолжительностью более 1 000 000 мс. Их количество:"
   ]
  },
  {
   "cell_type": "code",
   "execution_count": 21,
   "id": "2993ea44",
   "metadata": {},
   "outputs": [
    {
     "data": {
      "text/plain": [
       "134"
      ]
     },
     "execution_count": 21,
     "metadata": {},
     "output_type": "execute_result"
    }
   ],
   "source": [
    "np.sum(dataraw['duration_ms'] > 1*1e6)"
   ]
  },
  {
   "cell_type": "markdown",
   "id": "cb8ad088",
   "metadata": {},
   "source": [
    "Выведем ящик с усами признаков хитов:"
   ]
  },
  {
   "cell_type": "code",
   "execution_count": 22,
   "id": "4f870a92",
   "metadata": {},
   "outputs": [
    {
     "data": {
      "image/png": "[encoded data removed]",
      "text/plain": [
       "<Figure size 432x288 with 1 Axes>"
      ]
     },
     "metadata": {
      "needs_background": "light"
     },
     "output_type": "display_data"
    },
    {
     "data": {
      "image/png": "[encoded data removed]",
      "text/plain": [
       "<Figure size 432x288 with 1 Axes>"
      ]
     },
     "metadata": {
      "needs_background": "light"
     },
     "output_type": "display_data"
    },
    {
     "data": {
      "image/png": "[encoded data removed]",
      "text/plain": [
       "<Figure size 432x288 with 1 Axes>"
      ]
     },
     "metadata": {
      "needs_background": "light"
     },
     "output_type": "display_data"
    },
    {
     "data": {
      "image/png": "[encoded data removed]",
      "text/plain": [
       "<Figure size 432x288 with 1 Axes>"
      ]
     },
     "metadata": {
      "needs_background": "light"
     },
     "output_type": "display_data"
    },
    {
     "data": {
      "image/png": "[encoded data removed]",
      "text/plain": [
       "<Figure size 432x288 with 1 Axes>"
      ]
     },
     "metadata": {
      "needs_background": "light"
     },
     "output_type": "display_data"
    },
    {
     "data": {
      "image/png": "[encoded data removed]",
      "text/plain": [
       "<Figure size 432x288 with 1 Axes>"
      ]
     },
     "metadata": {
      "needs_background": "light"
     },
     "output_type": "display_data"
    },
    {
     "data": {
      "image/png": "[encoded data removed]",
      "text/plain": [
       "<Figure size 432x288 with 1 Axes>"
      ]
     },
     "metadata": {
      "needs_background": "light"
     },
     "output_type": "display_data"
    },
    {
     "data": {
      "image/png": "[encoded data removed]",
      "text/plain": [
       "<Figure size 432x288 with 1 Axes>"
      ]
     },
     "metadata": {
      "needs_background": "light"
     },
     "output_type": "display_data"
    },
    {
     "data": {
      "image/png": "[encoded data removed]",
      "text/plain": [
       "<Figure size 432x288 with 1 Axes>"
      ]
     },
     "metadata": {
      "needs_background": "light"
     },
     "output_type": "display_data"
    },
    {
     "data": {
      "image/png": "[encoded data removed]",
      "text/plain": [
       "<Figure size 432x288 with 1 Axes>"
      ]
     },
     "metadata": {
      "needs_background": "light"
     },
     "output_type": "display_data"
    }
   ],
   "source": [
    "for sign in signs:\n",
    "    data = dataraw.copy();\n",
    "    data.boxplot(column=sign)\n",
    "    plt.ylabel(sign)\n",
    "    plt.show()\n",
    "    "
   ]
  },
  {
   "cell_type": "markdown",
   "id": "557618b0",
   "metadata": {},
   "source": [
    "Обычно, что ниже 1 и выше 3 квартиля считается выбросами, поэтому попробуем избавиться от них:"
   ]
  },
  {
   "cell_type": "code",
   "execution_count": 23,
   "id": "4c9b3ff9",
   "metadata": {},
   "outputs": [],
   "source": [
    "rows_to_drop = dataraw[\n",
    "    (dataraw['duration_ms']  < dataraw['duration_ms'].quantile(0.005)) |\n",
    "    (dataraw['duration_ms']  > dataraw['duration_ms'].quantile(0.955)) |\n",
    "    \n",
    "    (dataraw['tempo']        > dataraw['tempo'].quantile(0.955)) |\n",
    "    (dataraw['loudness']     > 0) | \n",
    "    (dataraw['speechiness']  > 0.6) | \n",
    "    (dataraw['tempo']        < 50) |\n",
    "    (dataraw['duration_ms']  > 1*1e6)\n",
    "    \n",
    "].index\n",
    "\n",
    "cropped_dataraw = dataraw.drop(rows_to_drop).reset_index()"
   ]
  },
  {
   "cell_type": "markdown",
   "id": "d7e62333",
   "metadata": {},
   "source": [
    "Сравним данные до и после обработки:"
   ]
  },
  {
   "cell_type": "code",
   "execution_count": 24,
   "id": "b39480b9",
   "metadata": {},
   "outputs": [
    {
     "data": {
      "text/plain": [
       "(41103, 19)"
      ]
     },
     "execution_count": 24,
     "metadata": {},
     "output_type": "execute_result"
    }
   ],
   "source": [
    "dataraw.shape"
   ]
  },
  {
   "cell_type": "code",
   "execution_count": 25,
   "id": "426a3ffd",
   "metadata": {},
   "outputs": [
    {
     "data": {
      "text/plain": [
       "(37092, 20)"
      ]
     },
     "execution_count": 25,
     "metadata": {},
     "output_type": "execute_result"
    }
   ],
   "source": [
    "cropped_dataraw.shape"
   ]
  },
  {
   "cell_type": "markdown",
   "id": "c59da7f7",
   "metadata": {},
   "source": [
    "Проведем бинаризацию признака mode:"
   ]
  },
  {
   "cell_type": "code",
   "execution_count": 47,
   "id": "1f18c0b8",
   "metadata": {},
   "outputs": [],
   "source": [
    "minor = pd.DataFrame({\"minor\" : cropped_dataraw[\"mode\"].copy()})\n",
    "major = pd.DataFrame({\"major\" : cropped_dataraw[\"mode\"].copy()})\n",
    "\n",
    "cropped_dataraw = cropped_dataraw.drop(columns={'mode'})\n",
    "\n",
    "for i in range(0, major.shape[0]):\n",
    "    major[\"major\"][i] = (major[\"major\"][i]*2 + 1) % 3;\n",
    "\n",
    "cropped_dataraw = pd.concat((cropped_dataraw, minor, major),axis = 1)"
   ]
  },
  {
   "cell_type": "code",
   "execution_count": null,
   "id": "3d8a8455",
   "metadata": {},
   "outputs": [],
   "source": []
  },
  {
   "cell_type": "code",
   "execution_count": null,
   "id": "be9b4e2c",
   "metadata": {},
   "outputs": [],
   "source": []
  },
  {
   "cell_type": "code",
   "execution_count": null,
   "id": "7b5bd1ab",
   "metadata": {},
   "outputs": [],
   "source": []
  },
  {
   "cell_type": "code",
   "execution_count": null,
   "id": "961792dc",
   "metadata": {},
   "outputs": [],
   "source": []
  }
 ],
 "metadata": {
  "kernelspec": {
   "display_name": "Python 3",
   "language": "python",
   "name": "python3"
  },
  "language_info": {
   "codemirror_mode": {
    "name": "ipython",
    "version": 3
   },
   "file_extension": ".py",
   "mimetype": "text/x-python",
   "name": "python",
   "nbconvert_exporter": "python",
   "pygments_lexer": "ipython3",
   "version": "3.8.8"
  }
 },
 "nbformat": 4,
 "nbformat_minor": 5
}
