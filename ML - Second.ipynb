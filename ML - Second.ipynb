{
 "cells": [
  {
   "cell_type": "markdown",
   "id": "f9730e04",
   "metadata": {},
   "source": [
    "## Постановка задачи"
   ]
  },
  {
   "cell_type": "markdown",
   "id": "7811824c",
   "metadata": {},
   "source": [
    "Поставлена задача бинарной классификации музыкальных композиций. Требуется определить, станет ли музыкальная композиция популярна на основе предоставленных данных о популярности музыкальных композиций за последние 50 лет."
   ]
  },
  {
   "cell_type": "markdown",
   "id": "64beb124",
   "metadata": {},
   "source": [
    "Инициализация"
   ]
  },
  {
   "cell_type": "code",
   "execution_count": 1,
   "id": "f060d3e9",
   "metadata": {},
   "outputs": [
    {
     "data": {
      "text/html": [
       "<style>.output.output_scroll { height:auto !important; box-shadow:none !important; }.output_stderr { background:white !important; }</style>"
      ],
      "text/plain": [
       "<IPython.core.display.HTML object>"
      ]
     },
     "metadata": {},
     "output_type": "display_data"
    }
   ],
   "source": [
    "import numpy as np\n",
    "import matplotlib.pyplot as plt\n",
    "%matplotlib inline \n",
    "import pandas as pd \n",
    "import seaborn as sns\n",
    "import sklearn\n",
    "import math\n",
    "\n",
    "from sklearn import preprocessing\n",
    "from sklearn.model_selection import train_test_split\n",
    "from sklearn.neighbors import KNeighborsClassifier\n",
    "from sklearn.utils import parallel_backend\n",
    "from sklearn.metrics import f1_score\n",
    "from tqdm import tqdm\n",
    "\n",
    "from IPython.core.display import display, HTML\n",
    "\n",
    "css  = \"<style>\";\n",
    "css += \".output.output_scroll { height:auto !important; box-shadow:none !important; }\";\n",
    "css += \".output_stderr { background:white !important; }\";\n",
    "css += \"</style>\"\n",
    "\n",
    "display(HTML(css))"
   ]
  },
  {
   "cell_type": "markdown",
   "id": "ddaf7c59",
   "metadata": {},
   "source": [
    "Загружаем данные:"
   ]
  },
  {
   "cell_type": "code",
   "execution_count": 2,
   "id": "0b969d21",
   "metadata": {},
   "outputs": [],
   "source": [
    "dataset_urls = {\n",
    "    \"60s\" : \"https://raw.githubusercontent.com/AUXLander/MachineLearning/master/datasets/dataset-of-60s.csv\",\n",
    "    \"70s\" : \"https://raw.githubusercontent.com/AUXLander/MachineLearning/master/datasets/dataset-of-70s.csv\",\n",
    "    \"80s\" : \"https://raw.githubusercontent.com/AUXLander/MachineLearning/master/datasets/dataset-of-80s.csv\",\n",
    "    \"90s\" : \"https://raw.githubusercontent.com/AUXLander/MachineLearning/master/datasets/dataset-of-90s.csv\",\n",
    "    \"00s\" : \"https://raw.githubusercontent.com/AUXLander/MachineLearning/master/datasets/dataset-of-00s.csv\",\n",
    "    \"10s\" : \"https://raw.githubusercontent.com/AUXLander/MachineLearning/master/datasets/dataset-of-10s.csv\",\n",
    "    \"all\" : \"https://raw.githubusercontent.com/AUXLander/MachineLearning/master/datasets/dataset-of-all.csv\"\n",
    "};"
   ]
  },
  {
   "cell_type": "markdown",
   "id": "aa20dc20",
   "metadata": {},
   "source": [
    "Выберем год"
   ]
  },
  {
   "cell_type": "code",
   "execution_count": 3,
   "id": "6f0d4586",
   "metadata": {},
   "outputs": [],
   "source": [
    "dataurl = dataset_urls[\"all\"];\n",
    "dataraw = pd.read_csv(dataurl);"
   ]
  },
  {
   "cell_type": "markdown",
   "id": "0ab78d31",
   "metadata": {},
   "source": [
    "Размеры таблицы:"
   ]
  },
  {
   "cell_type": "code",
   "execution_count": 4,
   "id": "c7da8935",
   "metadata": {},
   "outputs": [
    {
     "data": {
      "text/plain": [
       "(41106, 19)"
      ]
     },
     "execution_count": 4,
     "metadata": {},
     "output_type": "execute_result"
    }
   ],
   "source": [
    "dataraw.shape"
   ]
  },
  {
   "cell_type": "markdown",
   "id": "638dfa68",
   "metadata": {},
   "source": [
    "Отобразим первые строки:"
   ]
  },
  {
   "cell_type": "code",
   "execution_count": 5,
   "id": "41bc3ae3",
   "metadata": {},
   "outputs": [
    {
     "data": {
      "text/html": [
       "<div>\n",
       "<style scoped>\n",
       "    .dataframe tbody tr th:only-of-type {\n",
       "        vertical-align: middle;\n",
       "    }\n",
       "\n",
       "    .dataframe tbody tr th {\n",
       "        vertical-align: top;\n",
       "    }\n",
       "\n",
       "    .dataframe thead th {\n",
       "        text-align: right;\n",
       "    }\n",
       "</style>\n",
       "<table border=\"1\" class=\"dataframe\">\n",
       "  <thead>\n",
       "    <tr style=\"text-align: right;\">\n",
       "      <th></th>\n",
       "      <th>track</th>\n",
       "      <th>artist</th>\n",
       "      <th>uri</th>\n",
       "      <th>danceability</th>\n",
       "      <th>energy</th>\n",
       "      <th>key</th>\n",
       "      <th>loudness</th>\n",
       "      <th>mode</th>\n",
       "      <th>speechiness</th>\n",
       "      <th>acousticness</th>\n",
       "      <th>instrumentalness</th>\n",
       "      <th>liveness</th>\n",
       "      <th>valence</th>\n",
       "      <th>tempo</th>\n",
       "      <th>duration_ms</th>\n",
       "      <th>time_signature</th>\n",
       "      <th>chorus_hit</th>\n",
       "      <th>sections</th>\n",
       "      <th>target</th>\n",
       "    </tr>\n",
       "  </thead>\n",
       "  <tbody>\n",
       "    <tr>\n",
       "      <th>0</th>\n",
       "      <td>Lucky Man</td>\n",
       "      <td>Montgomery Gentry</td>\n",
       "      <td>spotify:track:4GiXBCUF7H6YfNQsnBRIzl</td>\n",
       "      <td>0.578</td>\n",
       "      <td>0.471</td>\n",
       "      <td>4</td>\n",
       "      <td>-7.270</td>\n",
       "      <td>1</td>\n",
       "      <td>0.0289</td>\n",
       "      <td>0.368000</td>\n",
       "      <td>0.00000</td>\n",
       "      <td>0.159</td>\n",
       "      <td>0.532</td>\n",
       "      <td>133.061</td>\n",
       "      <td>196707</td>\n",
       "      <td>4</td>\n",
       "      <td>30.88059</td>\n",
       "      <td>13</td>\n",
       "      <td>1</td>\n",
       "    </tr>\n",
       "    <tr>\n",
       "      <th>1</th>\n",
       "      <td>On The Hotline</td>\n",
       "      <td>Pretty Ricky</td>\n",
       "      <td>spotify:track:1zyqZONW985Cs4osz9wlsu</td>\n",
       "      <td>0.704</td>\n",
       "      <td>0.854</td>\n",
       "      <td>10</td>\n",
       "      <td>-5.477</td>\n",
       "      <td>0</td>\n",
       "      <td>0.1830</td>\n",
       "      <td>0.018500</td>\n",
       "      <td>0.00000</td>\n",
       "      <td>0.148</td>\n",
       "      <td>0.688</td>\n",
       "      <td>92.988</td>\n",
       "      <td>242587</td>\n",
       "      <td>4</td>\n",
       "      <td>41.51106</td>\n",
       "      <td>10</td>\n",
       "      <td>1</td>\n",
       "    </tr>\n",
       "    <tr>\n",
       "      <th>2</th>\n",
       "      <td>Clouds Of Dementia</td>\n",
       "      <td>Candlemass</td>\n",
       "      <td>spotify:track:6cHZf7RbxXCKwEkgAZT4mY</td>\n",
       "      <td>0.162</td>\n",
       "      <td>0.836</td>\n",
       "      <td>9</td>\n",
       "      <td>-3.009</td>\n",
       "      <td>1</td>\n",
       "      <td>0.0473</td>\n",
       "      <td>0.000111</td>\n",
       "      <td>0.00457</td>\n",
       "      <td>0.174</td>\n",
       "      <td>0.300</td>\n",
       "      <td>86.964</td>\n",
       "      <td>338893</td>\n",
       "      <td>4</td>\n",
       "      <td>65.32887</td>\n",
       "      <td>13</td>\n",
       "      <td>0</td>\n",
       "    </tr>\n",
       "    <tr>\n",
       "      <th>3</th>\n",
       "      <td>Heavy Metal, Raise Hell!</td>\n",
       "      <td>Zwartketterij</td>\n",
       "      <td>spotify:track:2IjBPp2vMeX7LggzRN3iSX</td>\n",
       "      <td>0.188</td>\n",
       "      <td>0.994</td>\n",
       "      <td>4</td>\n",
       "      <td>-3.745</td>\n",
       "      <td>1</td>\n",
       "      <td>0.1660</td>\n",
       "      <td>0.000007</td>\n",
       "      <td>0.07840</td>\n",
       "      <td>0.192</td>\n",
       "      <td>0.333</td>\n",
       "      <td>148.440</td>\n",
       "      <td>255667</td>\n",
       "      <td>4</td>\n",
       "      <td>58.59528</td>\n",
       "      <td>9</td>\n",
       "      <td>0</td>\n",
       "    </tr>\n",
       "    <tr>\n",
       "      <th>4</th>\n",
       "      <td>I Got A Feelin'</td>\n",
       "      <td>Billy Currington</td>\n",
       "      <td>spotify:track:1tF370eYXUcWwkIvaq3IGz</td>\n",
       "      <td>0.630</td>\n",
       "      <td>0.764</td>\n",
       "      <td>2</td>\n",
       "      <td>-4.353</td>\n",
       "      <td>1</td>\n",
       "      <td>0.0275</td>\n",
       "      <td>0.363000</td>\n",
       "      <td>0.00000</td>\n",
       "      <td>0.125</td>\n",
       "      <td>0.631</td>\n",
       "      <td>112.098</td>\n",
       "      <td>193760</td>\n",
       "      <td>4</td>\n",
       "      <td>22.62384</td>\n",
       "      <td>10</td>\n",
       "      <td>1</td>\n",
       "    </tr>\n",
       "  </tbody>\n",
       "</table>\n",
       "</div>"
      ],
      "text/plain": [
       "                      track             artist  \\\n",
       "0                 Lucky Man  Montgomery Gentry   \n",
       "1            On The Hotline       Pretty Ricky   \n",
       "2        Clouds Of Dementia         Candlemass   \n",
       "3  Heavy Metal, Raise Hell!      Zwartketterij   \n",
       "4           I Got A Feelin'   Billy Currington   \n",
       "\n",
       "                                    uri  danceability  energy  key  loudness  \\\n",
       "0  spotify:track:4GiXBCUF7H6YfNQsnBRIzl         0.578   0.471    4    -7.270   \n",
       "1  spotify:track:1zyqZONW985Cs4osz9wlsu         0.704   0.854   10    -5.477   \n",
       "2  spotify:track:6cHZf7RbxXCKwEkgAZT4mY         0.162   0.836    9    -3.009   \n",
       "3  spotify:track:2IjBPp2vMeX7LggzRN3iSX         0.188   0.994    4    -3.745   \n",
       "4  spotify:track:1tF370eYXUcWwkIvaq3IGz         0.630   0.764    2    -4.353   \n",
       "\n",
       "   mode  speechiness  acousticness  instrumentalness  liveness  valence  \\\n",
       "0     1       0.0289      0.368000           0.00000     0.159    0.532   \n",
       "1     0       0.1830      0.018500           0.00000     0.148    0.688   \n",
       "2     1       0.0473      0.000111           0.00457     0.174    0.300   \n",
       "3     1       0.1660      0.000007           0.07840     0.192    0.333   \n",
       "4     1       0.0275      0.363000           0.00000     0.125    0.631   \n",
       "\n",
       "     tempo  duration_ms  time_signature  chorus_hit  sections  target  \n",
       "0  133.061       196707               4    30.88059        13       1  \n",
       "1   92.988       242587               4    41.51106        10       1  \n",
       "2   86.964       338893               4    65.32887        13       0  \n",
       "3  148.440       255667               4    58.59528         9       0  \n",
       "4  112.098       193760               4    22.62384        10       1  "
      ]
     },
     "execution_count": 5,
     "metadata": {},
     "output_type": "execute_result"
    }
   ],
   "source": [
    "dataraw.head()"
   ]
  },
  {
   "cell_type": "markdown",
   "id": "07e3860b",
   "metadata": {},
   "source": [
    "Признаки:\n",
    "* Track - название композиции\n",
    "* Artist - исполнитель\n",
    "* Uri - ссылка на композицию в Spotify\n",
    "* Danceability - численная оценка от 0 до 1 описывает, насколько композияция подходит для танцев.\n",
    "* Energy - численная оценка, которая описывает общую эмоциональную активность и энергичность музыкальной композиции. \n",
    "* Key - величина, которая описывает общую тональность музыкальной композиции, где 0 = Ля, 1 = Ля минор, 2 = Си бемоль и т.д., иначе, если тональность не определена = -1.\n",
    "* Loudness - величина, описывающая громкость музыкальной копозиции в dB.\n",
    "* Mode - признак, который определяет модальность: мажор - 1, а минор - 0.\n",
    "* Speechiness - численная оценка от 0 до 1, которая описывает преобладание речи в музыкальной композиции. Значения выше 0,66 описывают треки, которые, вероятно, полностью состоят из произнесенных слов. Значения от 0,33 до 0,66 описывают дорожки, которые могут содержать как музыку, так и речь, как по частям, так и по слоям, включая такие случаи, как рэп. Значения ниже 0,33, скорее всего, представляют музыку и другие треки, не похожие на речь.\n",
    "* Acousticness - численная оценка от 0 до 1, которая описывает вероятность чисто аккустического исполнения музыкальной композиции.\n",
    "* Instrumentalness - численная оценка от 0 до 1, которая описывает вероятность отсутствия вокала в данной композиции. Чем выше оценка, тем ниже вероятность наличия вокала.\n",
    "* Liveness - численная оценка от 0 до 1, которая описывает вероятность записи музыкальной композиции вживую. Оценка выше 0.8 означает высокую вероятность исполнения вживую.\n",
    "* Valence - численное оценка от 0 до 1, которая описывает общий положительный эмоциональный настрой композиции от наиболее негативных и грустных - 0, к наиболее счастливым и радостным - 1.\n",
    "* Tempo - величина, описывающая темп музыкальной композиции, количество ударов в минуту (BPM).\n",
    "* Duration - величина, описывающая продолжительность музыкальной композиции в миллисекундах.\n",
    "* Time signature - величина, описывающая количество ударов в каждом такте.\n",
    "* Chorus hit - временная отметка, когда начинается третья секция музыкальной композиции (?)\n",
    "* Sections - величина, описывающая количество секций в музыкальной композиции (?). \n",
    "* Target - признак, который принимает значение \"1\", если музыкальная композиция стала хитом, и \"0\" иначе."
   ]
  },
  {
   "cell_type": "markdown",
   "id": "b916ae66",
   "metadata": {},
   "source": [
    "Признак 'target' является целевым признаком!"
   ]
  },
  {
   "cell_type": "markdown",
   "id": "7a3345fc",
   "metadata": {},
   "source": [
    "# Визуализация данных и вычисление основных характеристик"
   ]
  },
  {
   "cell_type": "markdown",
   "id": "eb4878c0",
   "metadata": {},
   "source": [
    "Имена признаков в датасете:"
   ]
  },
  {
   "cell_type": "code",
   "execution_count": 6,
   "id": "1bed672f",
   "metadata": {},
   "outputs": [
    {
     "data": {
      "text/plain": [
       "Index(['track', 'artist', 'uri', 'danceability', 'energy', 'key', 'loudness',\n",
       "       'mode', 'speechiness', 'acousticness', 'instrumentalness', 'liveness',\n",
       "       'valence', 'tempo', 'duration_ms', 'time_signature', 'chorus_hit',\n",
       "       'sections', 'target'],\n",
       "      dtype='object')"
      ]
     },
     "execution_count": 6,
     "metadata": {},
     "output_type": "execute_result"
    }
   ],
   "source": [
    "dataraw.columns"
   ]
  },
  {
   "cell_type": "markdown",
   "id": "fd5e21cd",
   "metadata": {},
   "source": [
    "Сразу избавимся от признаков, которые априорно не оказывают влияние на популярность музыкальных композиций:"
   ]
  },
  {
   "cell_type": "code",
   "execution_count": 7,
   "id": "ece13b40",
   "metadata": {},
   "outputs": [],
   "source": [
    "del dataraw['track']\n",
    "del dataraw['artist']\n",
    "del dataraw['uri']"
   ]
  },
  {
   "cell_type": "code",
   "execution_count": 8,
   "id": "a7e2af61",
   "metadata": {},
   "outputs": [
    {
     "data": {
      "text/html": [
       "<div>\n",
       "<style scoped>\n",
       "    .dataframe tbody tr th:only-of-type {\n",
       "        vertical-align: middle;\n",
       "    }\n",
       "\n",
       "    .dataframe tbody tr th {\n",
       "        vertical-align: top;\n",
       "    }\n",
       "\n",
       "    .dataframe thead th {\n",
       "        text-align: right;\n",
       "    }\n",
       "</style>\n",
       "<table border=\"1\" class=\"dataframe\">\n",
       "  <thead>\n",
       "    <tr style=\"text-align: right;\">\n",
       "      <th></th>\n",
       "      <th>danceability</th>\n",
       "      <th>energy</th>\n",
       "      <th>key</th>\n",
       "      <th>loudness</th>\n",
       "      <th>mode</th>\n",
       "      <th>speechiness</th>\n",
       "      <th>acousticness</th>\n",
       "      <th>instrumentalness</th>\n",
       "      <th>liveness</th>\n",
       "      <th>valence</th>\n",
       "      <th>tempo</th>\n",
       "      <th>duration_ms</th>\n",
       "      <th>time_signature</th>\n",
       "      <th>chorus_hit</th>\n",
       "      <th>sections</th>\n",
       "      <th>target</th>\n",
       "    </tr>\n",
       "  </thead>\n",
       "  <tbody>\n",
       "    <tr>\n",
       "      <th>count</th>\n",
       "      <td>41106.000000</td>\n",
       "      <td>41106.000000</td>\n",
       "      <td>41106.000000</td>\n",
       "      <td>41106.000000</td>\n",
       "      <td>41106.000000</td>\n",
       "      <td>41106.000000</td>\n",
       "      <td>41106.000000</td>\n",
       "      <td>41106.000000</td>\n",
       "      <td>41106.000000</td>\n",
       "      <td>41106.000000</td>\n",
       "      <td>41106.000000</td>\n",
       "      <td>4.110600e+04</td>\n",
       "      <td>41106.000000</td>\n",
       "      <td>41106.000000</td>\n",
       "      <td>41106.000000</td>\n",
       "      <td>41106.000000</td>\n",
       "    </tr>\n",
       "    <tr>\n",
       "      <th>mean</th>\n",
       "      <td>0.539695</td>\n",
       "      <td>0.579545</td>\n",
       "      <td>5.213594</td>\n",
       "      <td>-10.221525</td>\n",
       "      <td>0.693354</td>\n",
       "      <td>0.072960</td>\n",
       "      <td>0.364197</td>\n",
       "      <td>0.154416</td>\n",
       "      <td>0.201535</td>\n",
       "      <td>0.542440</td>\n",
       "      <td>119.338249</td>\n",
       "      <td>2.348776e+05</td>\n",
       "      <td>3.893689</td>\n",
       "      <td>40.106041</td>\n",
       "      <td>10.475673</td>\n",
       "      <td>0.500000</td>\n",
       "    </tr>\n",
       "    <tr>\n",
       "      <th>std</th>\n",
       "      <td>0.177821</td>\n",
       "      <td>0.252628</td>\n",
       "      <td>3.534977</td>\n",
       "      <td>5.311626</td>\n",
       "      <td>0.461107</td>\n",
       "      <td>0.086112</td>\n",
       "      <td>0.338913</td>\n",
       "      <td>0.303530</td>\n",
       "      <td>0.172959</td>\n",
       "      <td>0.267329</td>\n",
       "      <td>29.098845</td>\n",
       "      <td>1.189674e+05</td>\n",
       "      <td>0.423073</td>\n",
       "      <td>19.005515</td>\n",
       "      <td>4.871850</td>\n",
       "      <td>0.500006</td>\n",
       "    </tr>\n",
       "    <tr>\n",
       "      <th>min</th>\n",
       "      <td>0.000000</td>\n",
       "      <td>0.000251</td>\n",
       "      <td>0.000000</td>\n",
       "      <td>-49.253000</td>\n",
       "      <td>0.000000</td>\n",
       "      <td>0.000000</td>\n",
       "      <td>0.000000</td>\n",
       "      <td>0.000000</td>\n",
       "      <td>0.013000</td>\n",
       "      <td>0.000000</td>\n",
       "      <td>0.000000</td>\n",
       "      <td>1.516800e+04</td>\n",
       "      <td>0.000000</td>\n",
       "      <td>0.000000</td>\n",
       "      <td>0.000000</td>\n",
       "      <td>0.000000</td>\n",
       "    </tr>\n",
       "    <tr>\n",
       "      <th>25%</th>\n",
       "      <td>0.420000</td>\n",
       "      <td>0.396000</td>\n",
       "      <td>2.000000</td>\n",
       "      <td>-12.816000</td>\n",
       "      <td>0.000000</td>\n",
       "      <td>0.033700</td>\n",
       "      <td>0.039400</td>\n",
       "      <td>0.000000</td>\n",
       "      <td>0.094000</td>\n",
       "      <td>0.330000</td>\n",
       "      <td>97.397000</td>\n",
       "      <td>1.729278e+05</td>\n",
       "      <td>4.000000</td>\n",
       "      <td>27.599792</td>\n",
       "      <td>8.000000</td>\n",
       "      <td>0.000000</td>\n",
       "    </tr>\n",
       "    <tr>\n",
       "      <th>50%</th>\n",
       "      <td>0.552000</td>\n",
       "      <td>0.601000</td>\n",
       "      <td>5.000000</td>\n",
       "      <td>-9.257000</td>\n",
       "      <td>1.000000</td>\n",
       "      <td>0.043400</td>\n",
       "      <td>0.258000</td>\n",
       "      <td>0.000120</td>\n",
       "      <td>0.132000</td>\n",
       "      <td>0.558000</td>\n",
       "      <td>117.565000</td>\n",
       "      <td>2.179070e+05</td>\n",
       "      <td>4.000000</td>\n",
       "      <td>35.850795</td>\n",
       "      <td>10.000000</td>\n",
       "      <td>0.500000</td>\n",
       "    </tr>\n",
       "    <tr>\n",
       "      <th>75%</th>\n",
       "      <td>0.669000</td>\n",
       "      <td>0.787000</td>\n",
       "      <td>8.000000</td>\n",
       "      <td>-6.374250</td>\n",
       "      <td>1.000000</td>\n",
       "      <td>0.069800</td>\n",
       "      <td>0.676000</td>\n",
       "      <td>0.061250</td>\n",
       "      <td>0.261000</td>\n",
       "      <td>0.768000</td>\n",
       "      <td>136.494000</td>\n",
       "      <td>2.667730e+05</td>\n",
       "      <td>4.000000</td>\n",
       "      <td>47.625615</td>\n",
       "      <td>12.000000</td>\n",
       "      <td>1.000000</td>\n",
       "    </tr>\n",
       "    <tr>\n",
       "      <th>max</th>\n",
       "      <td>0.988000</td>\n",
       "      <td>1.000000</td>\n",
       "      <td>11.000000</td>\n",
       "      <td>3.744000</td>\n",
       "      <td>1.000000</td>\n",
       "      <td>0.960000</td>\n",
       "      <td>0.996000</td>\n",
       "      <td>1.000000</td>\n",
       "      <td>0.999000</td>\n",
       "      <td>0.996000</td>\n",
       "      <td>241.423000</td>\n",
       "      <td>4.170227e+06</td>\n",
       "      <td>5.000000</td>\n",
       "      <td>433.182000</td>\n",
       "      <td>169.000000</td>\n",
       "      <td>1.000000</td>\n",
       "    </tr>\n",
       "  </tbody>\n",
       "</table>\n",
       "</div>"
      ],
      "text/plain": [
       "       danceability        energy           key      loudness          mode  \\\n",
       "count  41106.000000  41106.000000  41106.000000  41106.000000  41106.000000   \n",
       "mean       0.539695      0.579545      5.213594    -10.221525      0.693354   \n",
       "std        0.177821      0.252628      3.534977      5.311626      0.461107   \n",
       "min        0.000000      0.000251      0.000000    -49.253000      0.000000   \n",
       "25%        0.420000      0.396000      2.000000    -12.816000      0.000000   \n",
       "50%        0.552000      0.601000      5.000000     -9.257000      1.000000   \n",
       "75%        0.669000      0.787000      8.000000     -6.374250      1.000000   \n",
       "max        0.988000      1.000000     11.000000      3.744000      1.000000   \n",
       "\n",
       "        speechiness  acousticness  instrumentalness      liveness  \\\n",
       "count  41106.000000  41106.000000      41106.000000  41106.000000   \n",
       "mean       0.072960      0.364197          0.154416      0.201535   \n",
       "std        0.086112      0.338913          0.303530      0.172959   \n",
       "min        0.000000      0.000000          0.000000      0.013000   \n",
       "25%        0.033700      0.039400          0.000000      0.094000   \n",
       "50%        0.043400      0.258000          0.000120      0.132000   \n",
       "75%        0.069800      0.676000          0.061250      0.261000   \n",
       "max        0.960000      0.996000          1.000000      0.999000   \n",
       "\n",
       "            valence         tempo   duration_ms  time_signature    chorus_hit  \\\n",
       "count  41106.000000  41106.000000  4.110600e+04    41106.000000  41106.000000   \n",
       "mean       0.542440    119.338249  2.348776e+05        3.893689     40.106041   \n",
       "std        0.267329     29.098845  1.189674e+05        0.423073     19.005515   \n",
       "min        0.000000      0.000000  1.516800e+04        0.000000      0.000000   \n",
       "25%        0.330000     97.397000  1.729278e+05        4.000000     27.599792   \n",
       "50%        0.558000    117.565000  2.179070e+05        4.000000     35.850795   \n",
       "75%        0.768000    136.494000  2.667730e+05        4.000000     47.625615   \n",
       "max        0.996000    241.423000  4.170227e+06        5.000000    433.182000   \n",
       "\n",
       "           sections        target  \n",
       "count  41106.000000  41106.000000  \n",
       "mean      10.475673      0.500000  \n",
       "std        4.871850      0.500006  \n",
       "min        0.000000      0.000000  \n",
       "25%        8.000000      0.000000  \n",
       "50%       10.000000      0.500000  \n",
       "75%       12.000000      1.000000  \n",
       "max      169.000000      1.000000  "
      ]
     },
     "execution_count": 8,
     "metadata": {},
     "output_type": "execute_result"
    }
   ],
   "source": [
    "dataraw.describe()"
   ]
  },
  {
   "cell_type": "markdown",
   "id": "90f5f419",
   "metadata": {},
   "source": [
    "Признаки с неограниченным множеством принимаемых значений:"
   ]
  },
  {
   "cell_type": "code",
   "execution_count": 9,
   "id": "b8c0e520",
   "metadata": {},
   "outputs": [],
   "source": [
    "unlimited_value_features = ['danceability', 'energy', 'loudness', 'speechiness', 'acousticness', 'instrumentalness', 'liveness',\n",
    "       'valence', 'tempo', 'duration_ms'];"
   ]
  },
  {
   "cell_type": "markdown",
   "id": "547dd71a",
   "metadata": {},
   "source": [
    "Признаки с ограниченным множеством принимаемых значений:"
   ]
  },
  {
   "cell_type": "code",
   "execution_count": 10,
   "id": "6c23b8a8",
   "metadata": {},
   "outputs": [],
   "source": [
    "enumerated_value_features = ['key', 'mode', 'time_signature'];"
   ]
  },
  {
   "cell_type": "markdown",
   "id": "bb02a046",
   "metadata": {},
   "source": [
    "Покажем их преобладание среди множества данных:"
   ]
  },
  {
   "cell_type": "code",
   "execution_count": 11,
   "id": "13b455ff",
   "metadata": {
    "scrolled": true
   },
   "outputs": [
    {
     "data": {
      "image/png": "[encoded data removed]",
      "text/plain": [
       "<Figure size 1440x360 with 3 Axes>"
      ]
     },
     "metadata": {
      "needs_background": "light"
     },
     "output_type": "display_data"
    }
   ],
   "source": [
    "fig, ax = plt.subplots(1, 3, figsize=(20, 5))\n",
    "\n",
    "index = 0\n",
    "\n",
    "for feature in enumerated_value_features:\n",
    "    sns.countplot(x = feature, data = dataraw, ax = ax[index])\n",
    "    index = index + 1"
   ]
  },
  {
   "cell_type": "markdown",
   "id": "dfbec3d9",
   "metadata": {},
   "source": [
    "На полученных графиках выделяется признак time_signature, который принимает значения 0, 1 и 5 очень малое количество раз:"
   ]
  },
  {
   "cell_type": "code",
   "execution_count": 12,
   "id": "31392fa3",
   "metadata": {},
   "outputs": [
    {
     "name": "stdout",
     "output_type": "stream",
     "text": [
      "0 : 3\n",
      "1 : 371\n",
      "2 : 0\n",
      "3 : 3840\n",
      "4 : 36297\n"
     ]
    }
   ],
   "source": [
    "for time_signature in range(0,5):\n",
    "    print(time_signature, \":\", np.sum(dataraw['time_signature'] == time_signature))"
   ]
  },
  {
   "cell_type": "markdown",
   "id": "a0a349b7",
   "metadata": {},
   "source": [
    "Признаки с малым количеством вхождений (< 50) можно отбросить:"
   ]
  },
  {
   "cell_type": "code",
   "execution_count": 13,
   "id": "543dca77",
   "metadata": {
    "scrolled": true
   },
   "outputs": [
    {
     "name": "stdout",
     "output_type": "stream",
     "text": [
      "0 : 0\n",
      "1 : 371\n",
      "2 : 0\n",
      "3 : 3840\n",
      "4 : 36297\n"
     ]
    }
   ],
   "source": [
    "for time_signature in range(0,5):\n",
    "    if(np.sum(dataraw['time_signature'] == time_signature) < 50):\n",
    "        dataraw = dataraw[dataraw['time_signature'] != time_signature]\n",
    "        \n",
    "for time_signature in range(0,5):\n",
    "    print(time_signature, \":\", np.sum(dataraw['time_signature'] == time_signature))"
   ]
  },
  {
   "cell_type": "markdown",
   "id": "fb5534c0",
   "metadata": {},
   "source": [
    "Таблица корреляции признаков:"
   ]
  },
  {
   "cell_type": "code",
   "execution_count": 14,
   "id": "3603ce2e",
   "metadata": {
    "scrolled": false
   },
   "outputs": [
    {
     "data": {
      "text/html": [
       "<div>\n",
       "<style scoped>\n",
       "    .dataframe tbody tr th:only-of-type {\n",
       "        vertical-align: middle;\n",
       "    }\n",
       "\n",
       "    .dataframe tbody tr th {\n",
       "        vertical-align: top;\n",
       "    }\n",
       "\n",
       "    .dataframe thead th {\n",
       "        text-align: right;\n",
       "    }\n",
       "</style>\n",
       "<table border=\"1\" class=\"dataframe\">\n",
       "  <thead>\n",
       "    <tr style=\"text-align: right;\">\n",
       "      <th></th>\n",
       "      <th>danceability</th>\n",
       "      <th>energy</th>\n",
       "      <th>key</th>\n",
       "      <th>loudness</th>\n",
       "      <th>mode</th>\n",
       "      <th>speechiness</th>\n",
       "      <th>acousticness</th>\n",
       "      <th>instrumentalness</th>\n",
       "      <th>liveness</th>\n",
       "      <th>valence</th>\n",
       "      <th>tempo</th>\n",
       "      <th>duration_ms</th>\n",
       "      <th>time_signature</th>\n",
       "      <th>chorus_hit</th>\n",
       "      <th>sections</th>\n",
       "      <th>target</th>\n",
       "    </tr>\n",
       "  </thead>\n",
       "  <tbody>\n",
       "    <tr>\n",
       "      <th>danceability</th>\n",
       "      <td>1.000000</td>\n",
       "      <td>0.206139</td>\n",
       "      <td>0.015554</td>\n",
       "      <td>0.274179</td>\n",
       "      <td>-0.032801</td>\n",
       "      <td>0.156455</td>\n",
       "      <td>-0.261254</td>\n",
       "      <td>-0.302004</td>\n",
       "      <td>-0.115241</td>\n",
       "      <td>0.553728</td>\n",
       "      <td>-0.067004</td>\n",
       "      <td>-0.063100</td>\n",
       "      <td>0.190761</td>\n",
       "      <td>-0.036005</td>\n",
       "      <td>-0.058723</td>\n",
       "      <td>0.346165</td>\n",
       "    </tr>\n",
       "    <tr>\n",
       "      <th>energy</th>\n",
       "      <td>0.206139</td>\n",
       "      <td>1.000000</td>\n",
       "      <td>0.022597</td>\n",
       "      <td>0.772648</td>\n",
       "      <td>-0.033794</td>\n",
       "      <td>0.122393</td>\n",
       "      <td>-0.715048</td>\n",
       "      <td>-0.208169</td>\n",
       "      <td>0.157794</td>\n",
       "      <td>0.341415</td>\n",
       "      <td>0.224004</td>\n",
       "      <td>0.011814</td>\n",
       "      <td>0.196249</td>\n",
       "      <td>0.009463</td>\n",
       "      <td>-0.040254</td>\n",
       "      <td>0.177154</td>\n",
       "    </tr>\n",
       "    <tr>\n",
       "      <th>key</th>\n",
       "      <td>0.015554</td>\n",
       "      <td>0.022597</td>\n",
       "      <td>1.000000</td>\n",
       "      <td>0.008485</td>\n",
       "      <td>-0.140427</td>\n",
       "      <td>0.026551</td>\n",
       "      <td>-0.024257</td>\n",
       "      <td>-0.013090</td>\n",
       "      <td>0.000643</td>\n",
       "      <td>0.007841</td>\n",
       "      <td>0.001304</td>\n",
       "      <td>0.015513</td>\n",
       "      <td>0.005239</td>\n",
       "      <td>0.010302</td>\n",
       "      <td>0.006813</td>\n",
       "      <td>0.009868</td>\n",
       "    </tr>\n",
       "    <tr>\n",
       "      <th>loudness</th>\n",
       "      <td>0.274179</td>\n",
       "      <td>0.772648</td>\n",
       "      <td>0.008485</td>\n",
       "      <td>1.000000</td>\n",
       "      <td>0.000598</td>\n",
       "      <td>0.069247</td>\n",
       "      <td>-0.566555</td>\n",
       "      <td>-0.374328</td>\n",
       "      <td>0.086649</td>\n",
       "      <td>0.271713</td>\n",
       "      <td>0.169489</td>\n",
       "      <td>-0.049914</td>\n",
       "      <td>0.165302</td>\n",
       "      <td>-0.013336</td>\n",
       "      <td>-0.080099</td>\n",
       "      <td>0.285976</td>\n",
       "    </tr>\n",
       "    <tr>\n",
       "      <th>mode</th>\n",
       "      <td>-0.032801</td>\n",
       "      <td>-0.033794</td>\n",
       "      <td>-0.140427</td>\n",
       "      <td>0.000598</td>\n",
       "      <td>1.000000</td>\n",
       "      <td>-0.059675</td>\n",
       "      <td>0.049998</td>\n",
       "      <td>-0.076020</td>\n",
       "      <td>0.008943</td>\n",
       "      <td>0.035626</td>\n",
       "      <td>0.026951</td>\n",
       "      <td>-0.074841</td>\n",
       "      <td>-0.009552</td>\n",
       "      <td>-0.022715</td>\n",
       "      <td>-0.057111</td>\n",
       "      <td>0.079689</td>\n",
       "    </tr>\n",
       "    <tr>\n",
       "      <th>speechiness</th>\n",
       "      <td>0.156455</td>\n",
       "      <td>0.122393</td>\n",
       "      <td>0.026551</td>\n",
       "      <td>0.069247</td>\n",
       "      <td>-0.059675</td>\n",
       "      <td>1.000000</td>\n",
       "      <td>-0.083902</td>\n",
       "      <td>-0.084103</td>\n",
       "      <td>0.131516</td>\n",
       "      <td>0.001500</td>\n",
       "      <td>0.036795</td>\n",
       "      <td>0.007622</td>\n",
       "      <td>0.021022</td>\n",
       "      <td>0.012885</td>\n",
       "      <td>-0.008646</td>\n",
       "      <td>-0.040810</td>\n",
       "    </tr>\n",
       "    <tr>\n",
       "      <th>acousticness</th>\n",
       "      <td>-0.261254</td>\n",
       "      <td>-0.715048</td>\n",
       "      <td>-0.024257</td>\n",
       "      <td>-0.566555</td>\n",
       "      <td>0.049998</td>\n",
       "      <td>-0.083902</td>\n",
       "      <td>1.000000</td>\n",
       "      <td>0.204157</td>\n",
       "      <td>-0.030784</td>\n",
       "      <td>-0.195281</td>\n",
       "      <td>-0.179635</td>\n",
       "      <td>-0.070257</td>\n",
       "      <td>-0.188286</td>\n",
       "      <td>-0.012256</td>\n",
       "      <td>-0.016803</td>\n",
       "      <td>-0.246072</td>\n",
       "    </tr>\n",
       "    <tr>\n",
       "      <th>instrumentalness</th>\n",
       "      <td>-0.302004</td>\n",
       "      <td>-0.208169</td>\n",
       "      <td>-0.013090</td>\n",
       "      <td>-0.374328</td>\n",
       "      <td>-0.076020</td>\n",
       "      <td>-0.084103</td>\n",
       "      <td>0.204157</td>\n",
       "      <td>1.000000</td>\n",
       "      <td>-0.050564</td>\n",
       "      <td>-0.287094</td>\n",
       "      <td>-0.053672</td>\n",
       "      <td>0.106548</td>\n",
       "      <td>-0.078250</td>\n",
       "      <td>0.048649</td>\n",
       "      <td>0.081184</td>\n",
       "      <td>-0.407633</td>\n",
       "    </tr>\n",
       "    <tr>\n",
       "      <th>liveness</th>\n",
       "      <td>-0.115241</td>\n",
       "      <td>0.157794</td>\n",
       "      <td>0.000643</td>\n",
       "      <td>0.086649</td>\n",
       "      <td>0.008943</td>\n",
       "      <td>0.131516</td>\n",
       "      <td>-0.030784</td>\n",
       "      <td>-0.050564</td>\n",
       "      <td>1.000000</td>\n",
       "      <td>0.000793</td>\n",
       "      <td>0.024947</td>\n",
       "      <td>0.005343</td>\n",
       "      <td>0.004805</td>\n",
       "      <td>0.038067</td>\n",
       "      <td>-0.011733</td>\n",
       "      <td>-0.051499</td>\n",
       "    </tr>\n",
       "    <tr>\n",
       "      <th>valence</th>\n",
       "      <td>0.553728</td>\n",
       "      <td>0.341415</td>\n",
       "      <td>0.007841</td>\n",
       "      <td>0.271713</td>\n",
       "      <td>0.035626</td>\n",
       "      <td>0.001500</td>\n",
       "      <td>-0.195281</td>\n",
       "      <td>-0.287094</td>\n",
       "      <td>0.000793</td>\n",
       "      <td>1.000000</td>\n",
       "      <td>0.107627</td>\n",
       "      <td>-0.172233</td>\n",
       "      <td>0.154901</td>\n",
       "      <td>-0.058942</td>\n",
       "      <td>-0.133618</td>\n",
       "      <td>0.251149</td>\n",
       "    </tr>\n",
       "    <tr>\n",
       "      <th>tempo</th>\n",
       "      <td>-0.067004</td>\n",
       "      <td>0.224004</td>\n",
       "      <td>0.001304</td>\n",
       "      <td>0.169489</td>\n",
       "      <td>0.026951</td>\n",
       "      <td>0.036795</td>\n",
       "      <td>-0.179635</td>\n",
       "      <td>-0.053672</td>\n",
       "      <td>0.024947</td>\n",
       "      <td>0.107627</td>\n",
       "      <td>1.000000</td>\n",
       "      <td>-0.024385</td>\n",
       "      <td>0.006201</td>\n",
       "      <td>-0.055955</td>\n",
       "      <td>0.024814</td>\n",
       "      <td>0.032697</td>\n",
       "    </tr>\n",
       "    <tr>\n",
       "      <th>duration_ms</th>\n",
       "      <td>-0.063100</td>\n",
       "      <td>0.011814</td>\n",
       "      <td>0.015513</td>\n",
       "      <td>-0.049914</td>\n",
       "      <td>-0.074841</td>\n",
       "      <td>0.007622</td>\n",
       "      <td>-0.070257</td>\n",
       "      <td>0.106548</td>\n",
       "      <td>0.005343</td>\n",
       "      <td>-0.172233</td>\n",
       "      <td>-0.024385</td>\n",
       "      <td>1.000000</td>\n",
       "      <td>0.018301</td>\n",
       "      <td>0.093927</td>\n",
       "      <td>0.888953</td>\n",
       "      <td>-0.073822</td>\n",
       "    </tr>\n",
       "    <tr>\n",
       "      <th>time_signature</th>\n",
       "      <td>0.190761</td>\n",
       "      <td>0.196249</td>\n",
       "      <td>0.005239</td>\n",
       "      <td>0.165302</td>\n",
       "      <td>-0.009552</td>\n",
       "      <td>0.021022</td>\n",
       "      <td>-0.188286</td>\n",
       "      <td>-0.078250</td>\n",
       "      <td>0.004805</td>\n",
       "      <td>0.154901</td>\n",
       "      <td>0.006201</td>\n",
       "      <td>0.018301</td>\n",
       "      <td>1.000000</td>\n",
       "      <td>-0.010304</td>\n",
       "      <td>0.008108</td>\n",
       "      <td>0.104989</td>\n",
       "    </tr>\n",
       "    <tr>\n",
       "      <th>chorus_hit</th>\n",
       "      <td>-0.036005</td>\n",
       "      <td>0.009463</td>\n",
       "      <td>0.010302</td>\n",
       "      <td>-0.013336</td>\n",
       "      <td>-0.022715</td>\n",
       "      <td>0.012885</td>\n",
       "      <td>-0.012256</td>\n",
       "      <td>0.048649</td>\n",
       "      <td>0.038067</td>\n",
       "      <td>-0.058942</td>\n",
       "      <td>-0.055955</td>\n",
       "      <td>0.093927</td>\n",
       "      <td>-0.010304</td>\n",
       "      <td>1.000000</td>\n",
       "      <td>-0.085899</td>\n",
       "      <td>-0.046281</td>\n",
       "    </tr>\n",
       "    <tr>\n",
       "      <th>sections</th>\n",
       "      <td>-0.058723</td>\n",
       "      <td>-0.040254</td>\n",
       "      <td>0.006813</td>\n",
       "      <td>-0.080099</td>\n",
       "      <td>-0.057111</td>\n",
       "      <td>-0.008646</td>\n",
       "      <td>-0.016803</td>\n",
       "      <td>0.081184</td>\n",
       "      <td>-0.011733</td>\n",
       "      <td>-0.133618</td>\n",
       "      <td>0.024814</td>\n",
       "      <td>0.888953</td>\n",
       "      <td>0.008108</td>\n",
       "      <td>-0.085899</td>\n",
       "      <td>1.000000</td>\n",
       "      <td>-0.060002</td>\n",
       "    </tr>\n",
       "    <tr>\n",
       "      <th>target</th>\n",
       "      <td>0.346165</td>\n",
       "      <td>0.177154</td>\n",
       "      <td>0.009868</td>\n",
       "      <td>0.285976</td>\n",
       "      <td>0.079689</td>\n",
       "      <td>-0.040810</td>\n",
       "      <td>-0.246072</td>\n",
       "      <td>-0.407633</td>\n",
       "      <td>-0.051499</td>\n",
       "      <td>0.251149</td>\n",
       "      <td>0.032697</td>\n",
       "      <td>-0.073822</td>\n",
       "      <td>0.104989</td>\n",
       "      <td>-0.046281</td>\n",
       "      <td>-0.060002</td>\n",
       "      <td>1.000000</td>\n",
       "    </tr>\n",
       "  </tbody>\n",
       "</table>\n",
       "</div>"
      ],
      "text/plain": [
       "                  danceability    energy       key  loudness      mode  \\\n",
       "danceability          1.000000  0.206139  0.015554  0.274179 -0.032801   \n",
       "energy                0.206139  1.000000  0.022597  0.772648 -0.033794   \n",
       "key                   0.015554  0.022597  1.000000  0.008485 -0.140427   \n",
       "loudness              0.274179  0.772648  0.008485  1.000000  0.000598   \n",
       "mode                 -0.032801 -0.033794 -0.140427  0.000598  1.000000   \n",
       "speechiness           0.156455  0.122393  0.026551  0.069247 -0.059675   \n",
       "acousticness         -0.261254 -0.715048 -0.024257 -0.566555  0.049998   \n",
       "instrumentalness     -0.302004 -0.208169 -0.013090 -0.374328 -0.076020   \n",
       "liveness             -0.115241  0.157794  0.000643  0.086649  0.008943   \n",
       "valence               0.553728  0.341415  0.007841  0.271713  0.035626   \n",
       "tempo                -0.067004  0.224004  0.001304  0.169489  0.026951   \n",
       "duration_ms          -0.063100  0.011814  0.015513 -0.049914 -0.074841   \n",
       "time_signature        0.190761  0.196249  0.005239  0.165302 -0.009552   \n",
       "chorus_hit           -0.036005  0.009463  0.010302 -0.013336 -0.022715   \n",
       "sections             -0.058723 -0.040254  0.006813 -0.080099 -0.057111   \n",
       "target                0.346165  0.177154  0.009868  0.285976  0.079689   \n",
       "\n",
       "                  speechiness  acousticness  instrumentalness  liveness  \\\n",
       "danceability         0.156455     -0.261254         -0.302004 -0.115241   \n",
       "energy               0.122393     -0.715048         -0.208169  0.157794   \n",
       "key                  0.026551     -0.024257         -0.013090  0.000643   \n",
       "loudness             0.069247     -0.566555         -0.374328  0.086649   \n",
       "mode                -0.059675      0.049998         -0.076020  0.008943   \n",
       "speechiness          1.000000     -0.083902         -0.084103  0.131516   \n",
       "acousticness        -0.083902      1.000000          0.204157 -0.030784   \n",
       "instrumentalness    -0.084103      0.204157          1.000000 -0.050564   \n",
       "liveness             0.131516     -0.030784         -0.050564  1.000000   \n",
       "valence              0.001500     -0.195281         -0.287094  0.000793   \n",
       "tempo                0.036795     -0.179635         -0.053672  0.024947   \n",
       "duration_ms          0.007622     -0.070257          0.106548  0.005343   \n",
       "time_signature       0.021022     -0.188286         -0.078250  0.004805   \n",
       "chorus_hit           0.012885     -0.012256          0.048649  0.038067   \n",
       "sections            -0.008646     -0.016803          0.081184 -0.011733   \n",
       "target              -0.040810     -0.246072         -0.407633 -0.051499   \n",
       "\n",
       "                   valence     tempo  duration_ms  time_signature  chorus_hit  \\\n",
       "danceability      0.553728 -0.067004    -0.063100        0.190761   -0.036005   \n",
       "energy            0.341415  0.224004     0.011814        0.196249    0.009463   \n",
       "key               0.007841  0.001304     0.015513        0.005239    0.010302   \n",
       "loudness          0.271713  0.169489    -0.049914        0.165302   -0.013336   \n",
       "mode              0.035626  0.026951    -0.074841       -0.009552   -0.022715   \n",
       "speechiness       0.001500  0.036795     0.007622        0.021022    0.012885   \n",
       "acousticness     -0.195281 -0.179635    -0.070257       -0.188286   -0.012256   \n",
       "instrumentalness -0.287094 -0.053672     0.106548       -0.078250    0.048649   \n",
       "liveness          0.000793  0.024947     0.005343        0.004805    0.038067   \n",
       "valence           1.000000  0.107627    -0.172233        0.154901   -0.058942   \n",
       "tempo             0.107627  1.000000    -0.024385        0.006201   -0.055955   \n",
       "duration_ms      -0.172233 -0.024385     1.000000        0.018301    0.093927   \n",
       "time_signature    0.154901  0.006201     0.018301        1.000000   -0.010304   \n",
       "chorus_hit       -0.058942 -0.055955     0.093927       -0.010304    1.000000   \n",
       "sections         -0.133618  0.024814     0.888953        0.008108   -0.085899   \n",
       "target            0.251149  0.032697    -0.073822        0.104989   -0.046281   \n",
       "\n",
       "                  sections    target  \n",
       "danceability     -0.058723  0.346165  \n",
       "energy           -0.040254  0.177154  \n",
       "key               0.006813  0.009868  \n",
       "loudness         -0.080099  0.285976  \n",
       "mode             -0.057111  0.079689  \n",
       "speechiness      -0.008646 -0.040810  \n",
       "acousticness     -0.016803 -0.246072  \n",
       "instrumentalness  0.081184 -0.407633  \n",
       "liveness         -0.011733 -0.051499  \n",
       "valence          -0.133618  0.251149  \n",
       "tempo             0.024814  0.032697  \n",
       "duration_ms       0.888953 -0.073822  \n",
       "time_signature    0.008108  0.104989  \n",
       "chorus_hit       -0.085899 -0.046281  \n",
       "sections          1.000000 -0.060002  \n",
       "target           -0.060002  1.000000  "
      ]
     },
     "execution_count": 14,
     "metadata": {},
     "output_type": "execute_result"
    }
   ],
   "source": [
    "datacorr = dataraw.corr()\n",
    "datacorr"
   ]
  },
  {
   "cell_type": "code",
   "execution_count": 15,
   "id": "300f57c5",
   "metadata": {},
   "outputs": [
    {
     "data": {
      "image/png": "[encoded data removed]",
      "text/plain": [
       "<Figure size 1080x1080 with 2 Axes>"
      ]
     },
     "metadata": {
      "needs_background": "light"
     },
     "output_type": "display_data"
    }
   ],
   "source": [
    "f, ax = plt.subplots(figsize=(15, 15))\n",
    "\n",
    "ax = sns.heatmap(datacorr, center = 0, annot = True, square = True)\n",
    "pass"
   ]
  },
  {
   "cell_type": "markdown",
   "id": "418ac4ae",
   "metadata": {},
   "source": [
    "Выделим признаки с наибольшей и наименьшей корреляцией c target. На основе предоставленой выше таблицы выберем пороговое значение epsilon_min и epsilon_max:"
   ]
  },
  {
   "cell_type": "code",
   "execution_count": 16,
   "id": "cca955c0",
   "metadata": {},
   "outputs": [],
   "source": [
    "epsilon_max = 0.40\n",
    "epsilon_min = 0.06\n",
    "\n",
    "datacorr_max = datacorr[abs(datacorr) > epsilon_max]['target'].sort_values(key = lambda x: abs(x))\n",
    "datacorr_min = datacorr[abs(datacorr) < epsilon_min]['target'].sort_values(key = lambda x: abs(x))\n",
    "\n",
    "def process_correlation(data) :\n",
    "    datacorr_max = []\n",
    "    datacorr_sgn = []\n",
    "    for feature in unlimited_value_features:\n",
    "        if (math.isnan(data[feature]) == 0):\n",
    "            datacorr_sgn.append(feature)\n",
    "            datacorr_max.append(data[feature])\n",
    "\n",
    "    return pd.DataFrame(datacorr_max, datacorr_sgn, ['Корреляция с target'])"
   ]
  },
  {
   "cell_type": "markdown",
   "id": "24b265e7",
   "metadata": {},
   "source": [
    "Наибольшую отрицательную корреляцию имеет признак инструментальность:"
   ]
  },
  {
   "cell_type": "code",
   "execution_count": 17,
   "id": "170f3f98",
   "metadata": {},
   "outputs": [
    {
     "data": {
      "text/html": [
       "<div>\n",
       "<style scoped>\n",
       "    .dataframe tbody tr th:only-of-type {\n",
       "        vertical-align: middle;\n",
       "    }\n",
       "\n",
       "    .dataframe tbody tr th {\n",
       "        vertical-align: top;\n",
       "    }\n",
       "\n",
       "    .dataframe thead th {\n",
       "        text-align: right;\n",
       "    }\n",
       "</style>\n",
       "<table border=\"1\" class=\"dataframe\">\n",
       "  <thead>\n",
       "    <tr style=\"text-align: right;\">\n",
       "      <th></th>\n",
       "      <th>Корреляция с target</th>\n",
       "    </tr>\n",
       "  </thead>\n",
       "  <tbody>\n",
       "    <tr>\n",
       "      <th>instrumentalness</th>\n",
       "      <td>-0.407633</td>\n",
       "    </tr>\n",
       "  </tbody>\n",
       "</table>\n",
       "</div>"
      ],
      "text/plain": [
       "                  Корреляция с target\n",
       "instrumentalness            -0.407633"
      ]
     },
     "execution_count": 17,
     "metadata": {},
     "output_type": "execute_result"
    }
   ],
   "source": [
    "process_correlation(datacorr_max)"
   ]
  },
  {
   "cell_type": "markdown",
   "id": "e47e16f2",
   "metadata": {},
   "source": [
    "Это означает, что чем выше оценка инструментальности, тем меньше вероятность стать хитом для этой музыкальной композиции. "
   ]
  },
  {
   "cell_type": "code",
   "execution_count": 18,
   "id": "04184a6d",
   "metadata": {},
   "outputs": [
    {
     "data": {
      "image/png": "[encoded data removed]",
      "text/plain": [
       "<Figure size 402.375x360 with 1 Axes>"
      ]
     },
     "metadata": {
      "needs_background": "light"
     },
     "output_type": "display_data"
    }
   ],
   "source": [
    "sns.displot(dataraw, x='instrumentalness', bins = 25, hue = 'target')\n",
    "pass"
   ]
  },
  {
   "cell_type": "markdown",
   "id": "6f9156ae",
   "metadata": {},
   "source": [
    "Наименьшую корреляцию имеет следующая группа признаков:"
   ]
  },
  {
   "cell_type": "code",
   "execution_count": 19,
   "id": "44172932",
   "metadata": {},
   "outputs": [
    {
     "data": {
      "text/html": [
       "<div>\n",
       "<style scoped>\n",
       "    .dataframe tbody tr th:only-of-type {\n",
       "        vertical-align: middle;\n",
       "    }\n",
       "\n",
       "    .dataframe tbody tr th {\n",
       "        vertical-align: top;\n",
       "    }\n",
       "\n",
       "    .dataframe thead th {\n",
       "        text-align: right;\n",
       "    }\n",
       "</style>\n",
       "<table border=\"1\" class=\"dataframe\">\n",
       "  <thead>\n",
       "    <tr style=\"text-align: right;\">\n",
       "      <th></th>\n",
       "      <th>Корреляция с target</th>\n",
       "    </tr>\n",
       "  </thead>\n",
       "  <tbody>\n",
       "    <tr>\n",
       "      <th>speechiness</th>\n",
       "      <td>-0.040810</td>\n",
       "    </tr>\n",
       "    <tr>\n",
       "      <th>liveness</th>\n",
       "      <td>-0.051499</td>\n",
       "    </tr>\n",
       "    <tr>\n",
       "      <th>tempo</th>\n",
       "      <td>0.032697</td>\n",
       "    </tr>\n",
       "  </tbody>\n",
       "</table>\n",
       "</div>"
      ],
      "text/plain": [
       "             Корреляция с target\n",
       "speechiness            -0.040810\n",
       "liveness               -0.051499\n",
       "tempo                   0.032697"
      ]
     },
     "execution_count": 19,
     "metadata": {},
     "output_type": "execute_result"
    }
   ],
   "source": [
    "process_correlation(datacorr_min)"
   ]
  },
  {
   "cell_type": "markdown",
   "id": "a4ff2b21",
   "metadata": {},
   "source": [
    "Это означает, что признаки данной группы оказывают наименьшее влияние на популярность музыкальных композиций. (*)"
   ]
  },
  {
   "cell_type": "markdown",
   "id": "24a0f0de",
   "metadata": {},
   "source": [
    "# Обработка выбросов"
   ]
  },
  {
   "cell_type": "markdown",
   "id": "1ca09383",
   "metadata": {},
   "source": [
    "Выведем гистаграммы признаков музыкальных композиций:"
   ]
  },
  {
   "cell_type": "code",
   "execution_count": 20,
   "id": "2ad6dd8c",
   "metadata": {},
   "outputs": [
    {
     "data": {
      "image/png": "[encoded data removed]",
      "text/plain": [
       "<Figure size 432x288 with 1 Axes>"
      ]
     },
     "metadata": {
      "needs_background": "light"
     },
     "output_type": "display_data"
    },
    {
     "data": {
      "image/png": "[encoded data removed]",
      "text/plain": [
       "<Figure size 432x288 with 1 Axes>"
      ]
     },
     "metadata": {
      "needs_background": "light"
     },
     "output_type": "display_data"
    },
    {
     "data": {
      "image/png": "[encoded data removed]",
      "text/plain": [
       "<Figure size 432x288 with 1 Axes>"
      ]
     },
     "metadata": {
      "needs_background": "light"
     },
     "output_type": "display_data"
    },
    {
     "data": {
      "image/png": "[encoded data removed]",
      "text/plain": [
       "<Figure size 432x288 with 1 Axes>"
      ]
     },
     "metadata": {
      "needs_background": "light"
     },
     "output_type": "display_data"
    },
    {
     "data": {
      "image/png": "[encoded data removed]",
      "text/plain": [
       "<Figure size 432x288 with 1 Axes>"
      ]
     },
     "metadata": {
      "needs_background": "light"
     },
     "output_type": "display_data"
    },
    {
     "data": {
      "image/png": "[encoded data removed]",
      "text/plain": [
       "<Figure size 432x288 with 1 Axes>"
      ]
     },
     "metadata": {
      "needs_background": "light"
     },
     "output_type": "display_data"
    },
    {
     "data": {
      "image/png": "[encoded data removed]",
      "text/plain": [
       "<Figure size 432x288 with 1 Axes>"
      ]
     },
     "metadata": {
      "needs_background": "light"
     },
     "output_type": "display_data"
    },
    {
     "data": {
      "image/png": "[encoded data removed]",
      "text/plain": [
       "<Figure size 432x288 with 1 Axes>"
      ]
     },
     "metadata": {
      "needs_background": "light"
     },
     "output_type": "display_data"
    },
    {
     "data": {
      "image/png": "[encoded data removed]",
      "text/plain": [
       "<Figure size 432x288 with 1 Axes>"
      ]
     },
     "metadata": {
      "needs_background": "light"
     },
     "output_type": "display_data"
    },
    {
     "data": {
      "image/png": "[encoded data removed]",
      "text/plain": [
       "<Figure size 432x288 with 1 Axes>"
      ]
     },
     "metadata": {
      "needs_background": "light"
     },
     "output_type": "display_data"
    }
   ],
   "source": [
    "for feature in unlimited_value_features:\n",
    "    data = dataraw.copy();\n",
    "    data[feature].hist();\n",
    "    plt.xlabel(feature);\n",
    "    plt.ylabel(\"count\");\n",
    "    plt.show();\n",
    "    "
   ]
  },
  {
   "cell_type": "markdown",
   "id": "ee2c6022",
   "metadata": {},
   "source": [
    "Гистограмма loudness говорит о наличии музыкальных композиций громкостью более 0 dB. Их количество:"
   ]
  },
  {
   "cell_type": "code",
   "execution_count": 21,
   "id": "74cd6e54",
   "metadata": {},
   "outputs": [
    {
     "data": {
      "text/plain": [
       "6"
      ]
     },
     "execution_count": 21,
     "metadata": {},
     "output_type": "execute_result"
    }
   ],
   "source": [
    "np.sum(dataraw['loudness'] > 0)"
   ]
  },
  {
   "cell_type": "markdown",
   "id": "da00c129",
   "metadata": {},
   "source": [
    "Гистограмма speechiness говорит о наличии музыкальных композиций с оценкой более 0.6 единиц. Их количество:"
   ]
  },
  {
   "cell_type": "code",
   "execution_count": 22,
   "id": "01520aae",
   "metadata": {},
   "outputs": [
    {
     "data": {
      "text/plain": [
       "164"
      ]
     },
     "execution_count": 22,
     "metadata": {},
     "output_type": "execute_result"
    }
   ],
   "source": [
    "np.sum(dataraw['speechiness'] > 0.6)"
   ]
  },
  {
   "cell_type": "markdown",
   "id": "29a1d1bb",
   "metadata": {},
   "source": [
    "Гистограмма tempo говорит о наличии музыкальных композиций с темпом менее 50 ударов в сек. Их количество:"
   ]
  },
  {
   "cell_type": "code",
   "execution_count": 23,
   "id": "fd94138f",
   "metadata": {},
   "outputs": [
    {
     "data": {
      "text/plain": [
       "42"
      ]
     },
     "execution_count": 23,
     "metadata": {},
     "output_type": "execute_result"
    }
   ],
   "source": [
    "np.sum(dataraw['tempo'] < 50)"
   ]
  },
  {
   "cell_type": "markdown",
   "id": "04d54fbe",
   "metadata": {},
   "source": [
    "Гистограмма duration_ms говорит о наличии музыкальных композиций протодолжительностью более 1 000 000 мс. Их количество:"
   ]
  },
  {
   "cell_type": "code",
   "execution_count": 24,
   "id": "2993ea44",
   "metadata": {},
   "outputs": [
    {
     "data": {
      "text/plain": [
       "134"
      ]
     },
     "execution_count": 24,
     "metadata": {},
     "output_type": "execute_result"
    }
   ],
   "source": [
    "np.sum(dataraw['duration_ms'] > 1*1e6)"
   ]
  },
  {
   "cell_type": "markdown",
   "id": "cb8ad088",
   "metadata": {},
   "source": [
    "Выведем ящик с усами признаков хитов:"
   ]
  },
  {
   "cell_type": "code",
   "execution_count": 25,
   "id": "4f870a92",
   "metadata": {},
   "outputs": [
    {
     "data": {
      "image/png": "[encoded data removed]",
      "text/plain": [
       "<Figure size 432x288 with 1 Axes>"
      ]
     },
     "metadata": {
      "needs_background": "light"
     },
     "output_type": "display_data"
    },
    {
     "data": {
      "image/png": "[encoded data removed]",
      "text/plain": [
       "<Figure size 432x288 with 1 Axes>"
      ]
     },
     "metadata": {
      "needs_background": "light"
     },
     "output_type": "display_data"
    },
    {
     "data": {
      "image/png": "[encoded data removed]",
      "text/plain": [
       "<Figure size 432x288 with 1 Axes>"
      ]
     },
     "metadata": {
      "needs_background": "light"
     },
     "output_type": "display_data"
    },
    {
     "data": {
      "image/png": "[encoded data removed]",
      "text/plain": [
       "<Figure size 432x288 with 1 Axes>"
      ]
     },
     "metadata": {
      "needs_background": "light"
     },
     "output_type": "display_data"
    },
    {
     "data": {
      "image/png": "[encoded data removed]",
      "text/plain": [
       "<Figure size 432x288 with 1 Axes>"
      ]
     },
     "metadata": {
      "needs_background": "light"
     },
     "output_type": "display_data"
    },
    {
     "data": {
      "image/png": "[encoded data removed]",
      "text/plain": [
       "<Figure size 432x288 with 1 Axes>"
      ]
     },
     "metadata": {
      "needs_background": "light"
     },
     "output_type": "display_data"
    },
    {
     "data": {
      "image/png": "[encoded data removed]",
      "text/plain": [
       "<Figure size 432x288 with 1 Axes>"
      ]
     },
     "metadata": {
      "needs_background": "light"
     },
     "output_type": "display_data"
    },
    {
     "data": {
      "image/png": "[encoded data removed]",
      "text/plain": [
       "<Figure size 432x288 with 1 Axes>"
      ]
     },
     "metadata": {
      "needs_background": "light"
     },
     "output_type": "display_data"
    },
    {
     "data": {
      "image/png": "[encoded data removed]",
      "text/plain": [
       "<Figure size 432x288 with 1 Axes>"
      ]
     },
     "metadata": {
      "needs_background": "light"
     },
     "output_type": "display_data"
    },
    {
     "data": {
      "image/png": "[encoded data removed]",
      "text/plain": [
       "<Figure size 432x288 with 1 Axes>"
      ]
     },
     "metadata": {
      "needs_background": "light"
     },
     "output_type": "display_data"
    }
   ],
   "source": [
    "for feature in unlimited_value_features:\n",
    "    data = dataraw.copy();\n",
    "    data.boxplot(column = feature)\n",
    "    plt.ylabel(feature)\n",
    "    plt.show()\n",
    "    "
   ]
  },
  {
   "cell_type": "markdown",
   "id": "557618b0",
   "metadata": {},
   "source": [
    "Принято считать выбросами значения, относящимися в областях ниже 1 и выше 3 квартилей, поэтому избавляемся от них:"
   ]
  },
  {
   "cell_type": "code",
   "execution_count": 26,
   "id": "4c9b3ff9",
   "metadata": {},
   "outputs": [],
   "source": [
    "rows_to_drop = dataraw[\n",
    "    (dataraw['duration_ms']  < dataraw['duration_ms'].quantile(0.005)) |\n",
    "    (dataraw['duration_ms']  > dataraw['duration_ms'].quantile(0.955)) |\n",
    "    (dataraw['tempo']        > dataraw['tempo'].quantile(0.955))       |\n",
    "    (dataraw['loudness']     > 0.0)                                    | \n",
    "    (dataraw['speechiness']  > 0.6)                                    | \n",
    "    (dataraw['tempo']        < 50)                                     |\n",
    "    (dataraw['duration_ms']  > 1e6)\n",
    "].index\n",
    "\n",
    "cropped_dataraw = dataraw.drop(rows_to_drop).reset_index()"
   ]
  },
  {
   "cell_type": "markdown",
   "id": "d7e62333",
   "metadata": {},
   "source": [
    "Покажем разность размера в выборках:"
   ]
  },
  {
   "cell_type": "code",
   "execution_count": 27,
   "id": "b39480b9",
   "metadata": {},
   "outputs": [
    {
     "data": {
      "text/plain": [
       "4011"
      ]
     },
     "execution_count": 27,
     "metadata": {},
     "output_type": "execute_result"
    }
   ],
   "source": [
    "dataraw.shape[0] - cropped_dataraw.shape[0]"
   ]
  },
  {
   "cell_type": "markdown",
   "id": "607b21cc",
   "metadata": {},
   "source": [
    "## Обработка пропущенных значений"
   ]
  },
  {
   "cell_type": "markdown",
   "id": "1beddde4",
   "metadata": {},
   "source": [
    "В данном решении пропущенные значения отсутствуют:"
   ]
  },
  {
   "cell_type": "code",
   "execution_count": 28,
   "id": "d2202301",
   "metadata": {},
   "outputs": [
    {
     "data": {
      "text/plain": [
       "index               0\n",
       "danceability        0\n",
       "energy              0\n",
       "key                 0\n",
       "loudness            0\n",
       "mode                0\n",
       "speechiness         0\n",
       "acousticness        0\n",
       "instrumentalness    0\n",
       "liveness            0\n",
       "valence             0\n",
       "tempo               0\n",
       "duration_ms         0\n",
       "time_signature      0\n",
       "chorus_hit          0\n",
       "sections            0\n",
       "target              0\n",
       "dtype: int64"
      ]
     },
     "execution_count": 28,
     "metadata": {},
     "output_type": "execute_result"
    }
   ],
   "source": [
    "cropped_dataraw.isna().sum()"
   ]
  },
  {
   "cell_type": "markdown",
   "id": "eeb91624",
   "metadata": {},
   "source": [
    "## Обработка категориальных признаков"
   ]
  },
  {
   "cell_type": "markdown",
   "id": "b38810b2",
   "metadata": {},
   "source": [
    "Проведем бинаризацию признака mode:"
   ]
  },
  {
   "cell_type": "code",
   "execution_count": 29,
   "id": "1f18c0b8",
   "metadata": {},
   "outputs": [
    {
     "data": {
      "text/plain": [
       "Index(['danceability', 'energy', 'key', 'loudness', 'speechiness',\n",
       "       'acousticness', 'instrumentalness', 'liveness', 'valence', 'tempo',\n",
       "       'duration_ms', 'time_signature', 'chorus_hit', 'sections', 'target',\n",
       "       'minor', 'major'],\n",
       "      dtype='object')"
      ]
     },
     "execution_count": 29,
     "metadata": {},
     "output_type": "execute_result"
    }
   ],
   "source": [
    "minor = pd.DataFrame({\"minor\" : cropped_dataraw[\"mode\"].copy()})\n",
    "major = pd.DataFrame({\"major\" : cropped_dataraw[\"mode\"].copy()})\n",
    "\n",
    "for i in range(0, major.shape[0]):\n",
    "    major[\"major\"][i] = (2 * major[\"major\"][i] + 1) % 3;\n",
    "\n",
    "# При слиянии повился фиктивный признак index\n",
    "cropped_dataraw = pd.concat((cropped_dataraw, minor, major), axis = 1).drop(columns=['mode', 'index'])\n",
    "cropped_dataraw.columns"
   ]
  },
  {
   "cell_type": "markdown",
   "id": "79ae6a15",
   "metadata": {},
   "source": [
    "## Нормализация данных"
   ]
  },
  {
   "cell_type": "code",
   "execution_count": 30,
   "id": "be9b4e2c",
   "metadata": {},
   "outputs": [
    {
     "data": {
      "text/html": [
       "<div>\n",
       "<style scoped>\n",
       "    .dataframe tbody tr th:only-of-type {\n",
       "        vertical-align: middle;\n",
       "    }\n",
       "\n",
       "    .dataframe tbody tr th {\n",
       "        vertical-align: top;\n",
       "    }\n",
       "\n",
       "    .dataframe thead th {\n",
       "        text-align: right;\n",
       "    }\n",
       "</style>\n",
       "<table border=\"1\" class=\"dataframe\">\n",
       "  <thead>\n",
       "    <tr style=\"text-align: right;\">\n",
       "      <th></th>\n",
       "      <th>danceability</th>\n",
       "      <th>energy</th>\n",
       "      <th>key</th>\n",
       "      <th>loudness</th>\n",
       "      <th>speechiness</th>\n",
       "      <th>acousticness</th>\n",
       "      <th>instrumentalness</th>\n",
       "      <th>liveness</th>\n",
       "      <th>valence</th>\n",
       "      <th>tempo</th>\n",
       "      <th>duration_ms</th>\n",
       "      <th>time_signature</th>\n",
       "      <th>chorus_hit</th>\n",
       "      <th>sections</th>\n",
       "      <th>target</th>\n",
       "      <th>minor</th>\n",
       "      <th>major</th>\n",
       "    </tr>\n",
       "  </thead>\n",
       "  <tbody>\n",
       "    <tr>\n",
       "      <th>count</th>\n",
       "      <td>3.709200e+04</td>\n",
       "      <td>3.709200e+04</td>\n",
       "      <td>3.709200e+04</td>\n",
       "      <td>3.709200e+04</td>\n",
       "      <td>3.709200e+04</td>\n",
       "      <td>3.709200e+04</td>\n",
       "      <td>3.709200e+04</td>\n",
       "      <td>3.709200e+04</td>\n",
       "      <td>3.709200e+04</td>\n",
       "      <td>3.709200e+04</td>\n",
       "      <td>3.709200e+04</td>\n",
       "      <td>3.709200e+04</td>\n",
       "      <td>3.709200e+04</td>\n",
       "      <td>3.709200e+04</td>\n",
       "      <td>37092.000000</td>\n",
       "      <td>3.709200e+04</td>\n",
       "      <td>3.709200e+04</td>\n",
       "    </tr>\n",
       "    <tr>\n",
       "      <th>mean</th>\n",
       "      <td>1.795965e-14</td>\n",
       "      <td>6.033451e-15</td>\n",
       "      <td>-2.274802e-19</td>\n",
       "      <td>1.027886e-14</td>\n",
       "      <td>-1.028359e-14</td>\n",
       "      <td>2.829252e-15</td>\n",
       "      <td>-8.900312e-17</td>\n",
       "      <td>1.803298e-15</td>\n",
       "      <td>2.165751e-14</td>\n",
       "      <td>8.842331e-15</td>\n",
       "      <td>5.716996e-16</td>\n",
       "      <td>-1.080903e-14</td>\n",
       "      <td>1.667846e-14</td>\n",
       "      <td>9.288429e-15</td>\n",
       "      <td>0.522808</td>\n",
       "      <td>6.159140e-15</td>\n",
       "      <td>-6.159140e-15</td>\n",
       "    </tr>\n",
       "    <tr>\n",
       "      <th>std</th>\n",
       "      <td>1.000013e+00</td>\n",
       "      <td>1.000013e+00</td>\n",
       "      <td>1.000013e+00</td>\n",
       "      <td>1.000013e+00</td>\n",
       "      <td>1.000013e+00</td>\n",
       "      <td>1.000013e+00</td>\n",
       "      <td>1.000013e+00</td>\n",
       "      <td>1.000013e+00</td>\n",
       "      <td>1.000013e+00</td>\n",
       "      <td>1.000013e+00</td>\n",
       "      <td>1.000013e+00</td>\n",
       "      <td>1.000013e+00</td>\n",
       "      <td>1.000013e+00</td>\n",
       "      <td>1.000013e+00</td>\n",
       "      <td>0.499486</td>\n",
       "      <td>1.000013e+00</td>\n",
       "      <td>1.000013e+00</td>\n",
       "    </tr>\n",
       "    <tr>\n",
       "      <th>min</th>\n",
       "      <td>-2.843580e+00</td>\n",
       "      <td>-2.344460e+00</td>\n",
       "      <td>-1.471646e+00</td>\n",
       "      <td>-7.597248e+00</td>\n",
       "      <td>-6.661973e-01</td>\n",
       "      <td>-1.068955e+00</td>\n",
       "      <td>-4.836831e-01</td>\n",
       "      <td>-1.099675e+00</td>\n",
       "      <td>-2.093004e+00</td>\n",
       "      <td>-2.597152e+00</td>\n",
       "      <td>-2.524563e+00</td>\n",
       "      <td>-7.066840e+00</td>\n",
       "      <td>-2.167618e+00</td>\n",
       "      <td>-3.274561e+00</td>\n",
       "      <td>0.000000</td>\n",
       "      <td>-1.520261e+00</td>\n",
       "      <td>-6.577817e-01</td>\n",
       "    </tr>\n",
       "    <tr>\n",
       "      <th>25%</th>\n",
       "      <td>-6.496360e-01</td>\n",
       "      <td>-7.231458e-01</td>\n",
       "      <td>-9.062223e-01</td>\n",
       "      <td>-4.925033e-01</td>\n",
       "      <td>-5.040604e-01</td>\n",
       "      <td>-9.502041e-01</td>\n",
       "      <td>-4.836831e-01</td>\n",
       "      <td>-6.226384e-01</td>\n",
       "      <td>-7.895445e-01</td>\n",
       "      <td>-7.667700e-01</td>\n",
       "      <td>-7.225563e-01</td>\n",
       "      <td>2.376269e-01</td>\n",
       "      <td>-6.703837e-01</td>\n",
       "      <td>-6.283734e-01</td>\n",
       "      <td>0.000000</td>\n",
       "      <td>-1.520261e+00</td>\n",
       "      <td>-6.577817e-01</td>\n",
       "    </tr>\n",
       "    <tr>\n",
       "      <th>50%</th>\n",
       "      <td>7.167663e-02</td>\n",
       "      <td>8.801523e-02</td>\n",
       "      <td>-5.808658e-02</td>\n",
       "      <td>1.766663e-01</td>\n",
       "      <td>-3.699649e-01</td>\n",
       "      <td>-3.170664e-01</td>\n",
       "      <td>-4.833971e-01</td>\n",
       "      <td>-3.997078e-01</td>\n",
       "      <td>6.679781e-02</td>\n",
       "      <td>-2.067152e-02</td>\n",
       "      <td>-6.585503e-02</td>\n",
       "      <td>2.376269e-01</td>\n",
       "      <td>-2.289177e-01</td>\n",
       "      <td>3.317366e-02</td>\n",
       "      <td>1.000000</td>\n",
       "      <td>6.577817e-01</td>\n",
       "      <td>-6.577817e-01</td>\n",
       "    </tr>\n",
       "    <tr>\n",
       "      <th>75%</th>\n",
       "      <td>7.179727e-01</td>\n",
       "      <td>8.188633e-01</td>\n",
       "      <td>7.900491e-01</td>\n",
       "      <td>7.226673e-01</td>\n",
       "      <td>-1.189760e-02</td>\n",
       "      <td>9.032603e-01</td>\n",
       "      <td>-3.660439e-01</td>\n",
       "      <td>3.531977e-01</td>\n",
       "      <td>8.407267e-01</td>\n",
       "      <td>6.728405e-01</td>\n",
       "      <td>5.979453e-01</td>\n",
       "      <td>2.376269e-01</td>\n",
       "      <td>4.046092e-01</td>\n",
       "      <td>6.947207e-01</td>\n",
       "      <td>1.000000</td>\n",
       "      <td>6.577817e-01</td>\n",
       "      <td>1.520261e+00</td>\n",
       "    </tr>\n",
       "    <tr>\n",
       "      <th>max</th>\n",
       "      <td>2.518369e+00</td>\n",
       "      <td>1.670181e+00</td>\n",
       "      <td>1.638185e+00</td>\n",
       "      <td>1.916042e+00</td>\n",
       "      <td>7.631186e+00</td>\n",
       "      <td>1.902794e+00</td>\n",
       "      <td>2.923680e+00</td>\n",
       "      <td>4.700051e+00</td>\n",
       "      <td>1.680965e+00</td>\n",
       "      <td>2.332921e+00</td>\n",
       "      <td>2.942612e+00</td>\n",
       "      <td>2.672449e+00</td>\n",
       "      <td>1.200801e+01</td>\n",
       "      <td>5.656323e+00</td>\n",
       "      <td>1.000000</td>\n",
       "      <td>6.577817e-01</td>\n",
       "      <td>1.520261e+00</td>\n",
       "    </tr>\n",
       "  </tbody>\n",
       "</table>\n",
       "</div>"
      ],
      "text/plain": [
       "       danceability        energy           key      loudness   speechiness  \\\n",
       "count  3.709200e+04  3.709200e+04  3.709200e+04  3.709200e+04  3.709200e+04   \n",
       "mean   1.795965e-14  6.033451e-15 -2.274802e-19  1.027886e-14 -1.028359e-14   \n",
       "std    1.000013e+00  1.000013e+00  1.000013e+00  1.000013e+00  1.000013e+00   \n",
       "min   -2.843580e+00 -2.344460e+00 -1.471646e+00 -7.597248e+00 -6.661973e-01   \n",
       "25%   -6.496360e-01 -7.231458e-01 -9.062223e-01 -4.925033e-01 -5.040604e-01   \n",
       "50%    7.167663e-02  8.801523e-02 -5.808658e-02  1.766663e-01 -3.699649e-01   \n",
       "75%    7.179727e-01  8.188633e-01  7.900491e-01  7.226673e-01 -1.189760e-02   \n",
       "max    2.518369e+00  1.670181e+00  1.638185e+00  1.916042e+00  7.631186e+00   \n",
       "\n",
       "       acousticness  instrumentalness      liveness       valence  \\\n",
       "count  3.709200e+04      3.709200e+04  3.709200e+04  3.709200e+04   \n",
       "mean   2.829252e-15     -8.900312e-17  1.803298e-15  2.165751e-14   \n",
       "std    1.000013e+00      1.000013e+00  1.000013e+00  1.000013e+00   \n",
       "min   -1.068955e+00     -4.836831e-01 -1.099675e+00 -2.093004e+00   \n",
       "25%   -9.502041e-01     -4.836831e-01 -6.226384e-01 -7.895445e-01   \n",
       "50%   -3.170664e-01     -4.833971e-01 -3.997078e-01  6.679781e-02   \n",
       "75%    9.032603e-01     -3.660439e-01  3.531977e-01  8.407267e-01   \n",
       "max    1.902794e+00      2.923680e+00  4.700051e+00  1.680965e+00   \n",
       "\n",
       "              tempo   duration_ms  time_signature    chorus_hit      sections  \\\n",
       "count  3.709200e+04  3.709200e+04    3.709200e+04  3.709200e+04  3.709200e+04   \n",
       "mean   8.842331e-15  5.716996e-16   -1.080903e-14  1.667846e-14  9.288429e-15   \n",
       "std    1.000013e+00  1.000013e+00    1.000013e+00  1.000013e+00  1.000013e+00   \n",
       "min   -2.597152e+00 -2.524563e+00   -7.066840e+00 -2.167618e+00 -3.274561e+00   \n",
       "25%   -7.667700e-01 -7.225563e-01    2.376269e-01 -6.703837e-01 -6.283734e-01   \n",
       "50%   -2.067152e-02 -6.585503e-02    2.376269e-01 -2.289177e-01  3.317366e-02   \n",
       "75%    6.728405e-01  5.979453e-01    2.376269e-01  4.046092e-01  6.947207e-01   \n",
       "max    2.332921e+00  2.942612e+00    2.672449e+00  1.200801e+01  5.656323e+00   \n",
       "\n",
       "             target         minor         major  \n",
       "count  37092.000000  3.709200e+04  3.709200e+04  \n",
       "mean       0.522808  6.159140e-15 -6.159140e-15  \n",
       "std        0.499486  1.000013e+00  1.000013e+00  \n",
       "min        0.000000 -1.520261e+00 -6.577817e-01  \n",
       "25%        0.000000 -1.520261e+00 -6.577817e-01  \n",
       "50%        1.000000  6.577817e-01 -6.577817e-01  \n",
       "75%        1.000000  6.577817e-01  1.520261e+00  \n",
       "max        1.000000  6.577817e-01  1.520261e+00  "
      ]
     },
     "execution_count": 30,
     "metadata": {},
     "output_type": "execute_result"
    }
   ],
   "source": [
    "active_features = list(cropped_dataraw.columns)\n",
    "active_features.remove('target')\n",
    "\n",
    "data_normalized = cropped_dataraw.copy()\n",
    "data_normalized[active_features] = data_normalized[active_features].apply(lambda x: (x - np.mean(x)) / (np.std(x)))\n",
    "\n",
    "data = data_normalized.copy()\n",
    "data.describe()"
   ]
  },
  {
   "cell_type": "markdown",
   "id": "77f6319a",
   "metadata": {},
   "source": [
    "## Классфикатор ближайших соседей"
   ]
  },
  {
   "cell_type": "markdown",
   "id": "3fc23cf5",
   "metadata": {},
   "source": [
    "Определим функции для обработки и визуализации данных:"
   ]
  },
  {
   "cell_type": "code",
   "execution_count": 31,
   "id": "74a98656",
   "metadata": {},
   "outputs": [],
   "source": [
    "from sklearn.neighbors import KNeighborsClassifier\n",
    "from sklearn.utils import parallel_backend\n",
    "from sklearn.metrics import f1_score\n",
    "from tqdm import tqdm\n",
    "\n",
    "def split_data(cdata):\n",
    "    data_x = np.array(cdata.drop(['target'], axis=1))\n",
    "    data_y = np.array(cdata['target'])\n",
    "\n",
    "    return train_test_split(data_x, data_y, test_size = 0.25, random_state = 123)\n",
    "\n",
    "def process_data(x_train, x_test, y_train, y_test, iterator):\n",
    "    y_train_prediction = []\n",
    "    y_test_prediction = []\n",
    "    \n",
    "    for count in tqdm(iterator):\n",
    "        model = KNeighborsClassifier(n_jobs = -1, n_neighbors = count)\n",
    "        model.fit(x_train, y_train)\n",
    "\n",
    "        y_train_prediction.append(model.predict(x_train))\n",
    "        y_test_prediction.append(model.predict(x_test))\n",
    "        \n",
    "    print('Обучение завершено!')\n",
    "    \n",
    "    return y_train_prediction, y_test_prediction, iterator\n",
    "\n",
    "def draw_learning_result(x_train, x_test, y_train, y_test, y_train_prediction, y_test_prediction, iterator):\n",
    "    f, ax = plt.subplots(figsize=(8, 8))\n",
    "\n",
    "    ithistory = list(iterator)[::-1]\n",
    "    \n",
    "    rs_train = []\n",
    "    rs_test = []\n",
    "\n",
    "    for i in range(len(iterator)):\n",
    "        rs_train.append(np.mean(y_train != y_train_prediction[i]))\n",
    "        rs_test.append(np.mean(y_test != y_test_prediction[i]))\n",
    "\n",
    "    rs_train_history = rs_train[::-1];\n",
    "    rs_test_history = rs_test[::-1];\n",
    "\n",
    "    plt.scatter(ithistory, rs_train_history, label = 'ошибка обучения', color='#42A5F5')\n",
    "    plt.scatter(ithistory, rs_test_history, label = 'ошибка тренировки', color='#66BB6A')\n",
    "\n",
    "    plt.plot(ithistory, rs_train_history, color='#42A5F5')\n",
    "    plt.plot(ithistory, rs_test_history, color='#66BB6A')\n",
    "\n",
    "    plt.grid()\n",
    "    plt.legend()\n",
    "    \n",
    "    return rs_train, rs_test"
   ]
  },
  {
   "cell_type": "markdown",
   "id": "647193e4",
   "metadata": {},
   "source": [
    "Распределение тренировочных и тестовых данных:"
   ]
  },
  {
   "cell_type": "code",
   "execution_count": 32,
   "id": "b58b74d1",
   "metadata": {},
   "outputs": [],
   "source": [
    "x_train, x_test, y_train, y_test = split_data(data)"
   ]
  },
  {
   "cell_type": "markdown",
   "id": "2ed2aa0b",
   "metadata": {},
   "source": [
    " "
   ]
  },
  {
   "cell_type": "markdown",
   "id": "f1b7b459",
   "metadata": {},
   "source": [
    "# Обучение классификатора"
   ]
  },
  {
   "cell_type": "code",
   "execution_count": 33,
   "id": "a3ecf2ec",
   "metadata": {},
   "outputs": [],
   "source": [
    "from sklearn.neural_network import MLPClassifier\n",
    "from sklearn.metrics import accuracy_score\n",
    "\n",
    "def classifier(sizes):\n",
    "    return MLPClassifier(hidden_layer_sizes = sizes,\n",
    "                         solver = 'lbfgs', \n",
    "                         max_iter = 10000,\n",
    "                         activation = 'logistic',\n",
    "                         random_state = 42)\n",
    "\n",
    "def classifier_opt(alpha_opt, sizes):\n",
    "    return MLPClassifier(alpha = alpha_opt,\n",
    "                         hidden_layer_sizes = sizes,\n",
    "                         solver = 'lbfgs', \n",
    "                         max_iter = 10000,\n",
    "                         activation = 'logistic',\n",
    "                         random_state = 42)\n",
    "\n",
    "def alpha_plot(data, train_err, test_err, name_data = 'Alpha', name_err = 'Error'):\n",
    "    plt.semilogx(data, train_err, 'b-o', label = 'train')\n",
    "    plt.semilogx(data, test_err, 'r-o', label = 'test')\n",
    "    plt.xlim([np.min(data), np.max(data)])\n",
    "    plt.title('%s vs %s' % (name_err, name_data))\n",
    "    plt.xlabel(name_data)\n",
    "    plt.ylabel(name_err)\n",
    "    plt.legend()\n",
    "    pass"
   ]
  },
  {
   "cell_type": "markdown",
   "id": "5fb5e7f1",
   "metadata": {},
   "source": [
    "Разбиваем данные на обучающую и тестовую выборки:"
   ]
  },
  {
   "cell_type": "code",
   "execution_count": 34,
   "id": "454ec6f2",
   "metadata": {},
   "outputs": [
    {
     "name": "stdout",
     "output_type": "stream",
     "text": [
      "(24851, 16)\n",
      "(12241, 16)\n"
     ]
    }
   ],
   "source": [
    "data = data_normalized.copy();\n",
    "data_x = np.array(data.drop(['target'], axis=1));\n",
    "data_y = np.array(data['target']);\n",
    " \n",
    "x_train, x_test, y_train, y_test = train_test_split(data_x, \n",
    "                                                    data_y, \n",
    "                                                    test_size = 0.33, \n",
    "                                                    stratify = data_y, \n",
    "                                                    random_state = 42);\n",
    "print(x_train.shape)\n",
    "print(x_test.shape)"
   ]
  },
  {
   "cell_type": "code",
   "execution_count": 35,
   "id": "0e9c543e",
   "metadata": {},
   "outputs": [
    {
     "name": "stdout",
     "output_type": "stream",
     "text": [
      "Wall time: 9min 1s\n"
     ]
    }
   ],
   "source": [
    "%%time\n",
    "mlp_model = classifier((100,))\n",
    "mlp_model.fit(x_train, y_train)\n",
    "\n",
    "y_train_pred = mlp_model.predict(x_train)\n",
    "y_test_pred = mlp_model.predict(x_test)\n",
    "\n",
    "pass"
   ]
  },
  {
   "cell_type": "code",
   "execution_count": 36,
   "id": "b24cc5d5",
   "metadata": {},
   "outputs": [
    {
     "data": {
      "text/plain": [
       "((24851, 16), (12241, 16))"
      ]
     },
     "execution_count": 36,
     "metadata": {},
     "output_type": "execute_result"
    }
   ],
   "source": [
    "x_train.shape, x_test.shape"
   ]
  },
  {
   "cell_type": "markdown",
   "id": "69d77655",
   "metadata": {},
   "source": [
    "Ошибка на обучающей выборке:"
   ]
  },
  {
   "cell_type": "code",
   "execution_count": 37,
   "id": "585306ac",
   "metadata": {},
   "outputs": [
    {
     "data": {
      "text/plain": [
       "0.1384652529073277"
      ]
     },
     "execution_count": 37,
     "metadata": {},
     "output_type": "execute_result"
    }
   ],
   "source": [
    "1.0 - accuracy_score(y_train, y_train_pred)"
   ]
  },
  {
   "cell_type": "markdown",
   "id": "df003491",
   "metadata": {},
   "source": [
    "Ошибка на тестовой выборке:"
   ]
  },
  {
   "cell_type": "code",
   "execution_count": 38,
   "id": "0496fae6",
   "metadata": {},
   "outputs": [
    {
     "data": {
      "text/plain": [
       "0.26746180867576175"
      ]
     },
     "execution_count": 38,
     "metadata": {},
     "output_type": "execute_result"
    }
   ],
   "source": [
    "1.0 - accuracy_score(y_test, y_test_pred)"
   ]
  },
  {
   "cell_type": "code",
   "execution_count": 39,
   "id": "1304d1d9",
   "metadata": {},
   "outputs": [
    {
     "name": "stdout",
     "output_type": "stream",
     "text": [
      "Wall time: 1min 59s\n"
     ]
    }
   ],
   "source": [
    "%%time\n",
    "mlp_model = classifier((50,))\n",
    "mlp_model.fit(x_train, y_train)\n",
    "\n",
    "y_train_pred = mlp_model.predict(x_train)\n",
    "y_test_pred = mlp_model.predict(x_test)\n",
    "\n",
    "pass"
   ]
  },
  {
   "cell_type": "code",
   "execution_count": 40,
   "id": "e40153c8",
   "metadata": {},
   "outputs": [
    {
     "data": {
      "text/plain": [
       "((24851, 16), (12241, 16))"
      ]
     },
     "execution_count": 40,
     "metadata": {},
     "output_type": "execute_result"
    }
   ],
   "source": [
    "x_train.shape, x_test.shape"
   ]
  },
  {
   "cell_type": "markdown",
   "id": "758680cb",
   "metadata": {},
   "source": [
    "Ошибка обучающей выборки:"
   ]
  },
  {
   "cell_type": "code",
   "execution_count": 41,
   "id": "0c1bf439",
   "metadata": {},
   "outputs": [
    {
     "data": {
      "text/plain": [
       "0.18321194318136091"
      ]
     },
     "execution_count": 41,
     "metadata": {},
     "output_type": "execute_result"
    }
   ],
   "source": [
    "1.0 - accuracy_score(y_train, y_train_pred)"
   ]
  },
  {
   "cell_type": "markdown",
   "id": "7998ac38",
   "metadata": {},
   "source": [
    "Ошибка тестовой выборки:"
   ]
  },
  {
   "cell_type": "code",
   "execution_count": 42,
   "id": "33606df3",
   "metadata": {},
   "outputs": [
    {
     "data": {
      "text/plain": [
       "0.2506331182092967"
      ]
     },
     "execution_count": 42,
     "metadata": {},
     "output_type": "execute_result"
    }
   ],
   "source": [
    "1.0 - accuracy_score(y_test, y_test_pred)"
   ]
  },
  {
   "cell_type": "code",
   "execution_count": 43,
   "id": "5d5db304",
   "metadata": {},
   "outputs": [
    {
     "name": "stdout",
     "output_type": "stream",
     "text": [
      "Wall time: 49.8 s\n"
     ]
    }
   ],
   "source": [
    "%%time\n",
    "mlp_model = classifier((25,))\n",
    "mlp_model.fit(x_train, y_train)\n",
    "\n",
    "y_train_pred = mlp_model.predict(x_train)\n",
    "y_test_pred = mlp_model.predict(x_test)\n",
    "\n",
    "pass"
   ]
  },
  {
   "cell_type": "markdown",
   "id": "cc0a2a6b",
   "metadata": {},
   "source": [
    "Ошибка обучающей выборки:"
   ]
  },
  {
   "cell_type": "code",
   "execution_count": 44,
   "id": "5d10d876",
   "metadata": {},
   "outputs": [
    {
     "data": {
      "text/plain": [
       "0.20385497565490318"
      ]
     },
     "execution_count": 44,
     "metadata": {},
     "output_type": "execute_result"
    }
   ],
   "source": [
    "1.0 - accuracy_score(y_train, y_train_pred)"
   ]
  },
  {
   "cell_type": "markdown",
   "id": "e71bde43",
   "metadata": {},
   "source": [
    "Ошибка тестовой выборки:"
   ]
  },
  {
   "cell_type": "code",
   "execution_count": 45,
   "id": "1f603e35",
   "metadata": {},
   "outputs": [
    {
     "data": {
      "text/plain": [
       "0.23339596438199495"
      ]
     },
     "execution_count": 45,
     "metadata": {},
     "output_type": "execute_result"
    }
   ],
   "source": [
    "1.0 - accuracy_score(y_test, y_test_pred)"
   ]
  },
  {
   "cell_type": "markdown",
   "id": "5344ee8e",
   "metadata": {},
   "source": [
    "# Подбор гиперпараметров"
   ]
  },
  {
   "cell_type": "markdown",
   "id": "b553f89e",
   "metadata": {},
   "source": [
    "Как видно, при использлвани слоя из 50 нейронов результаты получаются лучше (ошибка на тестовой выборке меньше), поэтому будем проводить обучение классификатора для одного скрытого слоя из 25 нейронов.\n",
    "\n",
    "Модель с одним скрытым слоем и 25 нейронами. Поиск оптимального значения параметра регуляризации\n",
    "alpha:"
   ]
  },
  {
   "cell_type": "code",
   "execution_count": 46,
   "id": "1a79f4c4",
   "metadata": {},
   "outputs": [
    {
     "name": "stderr",
     "output_type": "stream",
     "text": [
      "100%|██████████| 26/26 [07:55<00:00, 18.29s/it]"
     ]
    },
    {
     "name": "stdout",
     "output_type": "stream",
     "text": [
      "Wall time: 7min 55s\n"
     ]
    },
    {
     "name": "stderr",
     "output_type": "stream",
     "text": [
      "\n"
     ]
    }
   ],
   "source": [
    "%%time\n",
    "alpha_arr = np.logspace(-3, 2, 25 + 1)\n",
    "\n",
    "test_err = []\n",
    "test_acc = []\n",
    "train_err = []\n",
    "train_acc = []\n",
    "\n",
    "for alpha in tqdm(alpha_arr):\n",
    "    mlp_model = classifier_opt(alpha, (25,))\n",
    "    mlp_model.fit(x_train, y_train)\n",
    "    \n",
    "    y_train_pred = mlp_model.predict(x_train)\n",
    "    y_test_pred = mlp_model.predict(x_test)\n",
    " \n",
    "    train_err.append(np.mean(y_train != y_train_pred))\n",
    "    test_err.append(np.mean(y_test != y_test_pred))\n",
    "    \n",
    "    train_acc.append(accuracy_score(y_train, y_train_pred))\n",
    "    test_acc.append(accuracy_score(y_test, y_test_pred))\n",
    "\n",
    "min_train_err = np.min(train_err)\n",
    "min_test_err = np.min(test_err)\n",
    "\n",
    "alpha_opt = alpha_arr[test_err == min_test_err]\n",
    "alpha_opt = alpha_opt[0]"
   ]
  },
  {
   "cell_type": "markdown",
   "id": "6ee46a2d",
   "metadata": {},
   "source": [
    "Минимальная ошибка на обучающей выборке:"
   ]
  },
  {
   "cell_type": "code",
   "execution_count": 47,
   "id": "ddb8fc5b",
   "metadata": {},
   "outputs": [
    {
     "data": {
      "text/plain": [
       "0.20425737394873444"
      ]
     },
     "execution_count": 47,
     "metadata": {},
     "output_type": "execute_result"
    }
   ],
   "source": [
    "min_train_err"
   ]
  },
  {
   "cell_type": "markdown",
   "id": "281e666a",
   "metadata": {},
   "source": [
    "Минимальная ошибка на тестовой выборке:"
   ]
  },
  {
   "cell_type": "code",
   "execution_count": 48,
   "id": "22a2c481",
   "metadata": {},
   "outputs": [
    {
     "data": {
      "text/plain": [
       "0.23086349154480842"
      ]
     },
     "execution_count": 48,
     "metadata": {},
     "output_type": "execute_result"
    }
   ],
   "source": [
    "min_test_err"
   ]
  },
  {
   "cell_type": "code",
   "execution_count": 49,
   "id": "0d7e5603",
   "metadata": {},
   "outputs": [
    {
     "data": {
      "image/png": "[encoded data removed]",
      "text/plain": [
       "<Figure size 432x288 with 1 Axes>"
      ]
     },
     "metadata": {
      "needs_background": "light"
     },
     "output_type": "display_data"
    }
   ],
   "source": [
    "alpha_plot(alpha_arr, train_err, test_err, 'Alpha', 'Error')"
   ]
  },
  {
   "cell_type": "code",
   "execution_count": 50,
   "id": "e5c89799",
   "metadata": {},
   "outputs": [
    {
     "data": {
      "image/png": "[encoded data removed]",
      "text/plain": [
       "<Figure size 432x288 with 1 Axes>"
      ]
     },
     "metadata": {
      "needs_background": "light"
     },
     "output_type": "display_data"
    }
   ],
   "source": [
    "alpha_plot(alpha_arr, train_acc, test_acc, 'Alpha', 'Accuracy')"
   ]
  },
  {
   "cell_type": "markdown",
   "id": "81afeaa8",
   "metadata": {},
   "source": [
    "Оптимальный параметр alpha:"
   ]
  },
  {
   "cell_type": "code",
   "execution_count": 51,
   "id": "f1f5795c",
   "metadata": {},
   "outputs": [
    {
     "data": {
      "text/plain": [
       "0.001"
      ]
     },
     "execution_count": 51,
     "metadata": {},
     "output_type": "execute_result"
    }
   ],
   "source": [
    "alpha_opt"
   ]
  },
  {
   "cell_type": "markdown",
   "id": "ff1681a2",
   "metadata": {},
   "source": [
    "# Обучение классификатора при оптимальном значении alpha"
   ]
  },
  {
   "cell_type": "code",
   "execution_count": 52,
   "id": "8e49f854",
   "metadata": {},
   "outputs": [
    {
     "name": "stdout",
     "output_type": "stream",
     "text": [
      "Wall time: 1min 17s\n"
     ]
    }
   ],
   "source": [
    "%%time\n",
    "mlp_model = classifier_opt(alpha_opt, (25,))\n",
    "mlp_model.fit(x_train, y_train)\n",
    "\n",
    "y_train_pred = mlp_model.predict(x_train)\n",
    "y_test_pred = mlp_model.predict(x_test)\n",
    "\n",
    "train_mean = np.mean(y_train != y_train_pred)\n",
    "test_mean = np.mean(y_test != y_test_pred)"
   ]
  },
  {
   "cell_type": "markdown",
   "id": "4882e41b",
   "metadata": {},
   "source": [
    "Ошибка на обучающей выборке:"
   ]
  },
  {
   "cell_type": "code",
   "execution_count": 53,
   "id": "ee22dbdc",
   "metadata": {},
   "outputs": [
    {
     "data": {
      "text/plain": [
       "0.20735584081123495"
      ]
     },
     "execution_count": 53,
     "metadata": {},
     "output_type": "execute_result"
    }
   ],
   "source": [
    "train_mean"
   ]
  },
  {
   "cell_type": "markdown",
   "id": "1a88f9dd",
   "metadata": {},
   "source": [
    "Ошибка на тренировочной выборке:"
   ]
  },
  {
   "cell_type": "code",
   "execution_count": 54,
   "id": "6ff8fd28",
   "metadata": {},
   "outputs": [
    {
     "data": {
      "text/plain": [
       "0.23086349154480842"
      ]
     },
     "execution_count": 54,
     "metadata": {},
     "output_type": "execute_result"
    }
   ],
   "source": [
    "test_mean"
   ]
  },
  {
   "cell_type": "markdown",
   "id": "34de981e",
   "metadata": {},
   "source": [
    "Оптимальное количество нейронов:"
   ]
  },
  {
   "cell_type": "code",
   "execution_count": 55,
   "id": "1c4dbac1",
   "metadata": {},
   "outputs": [
    {
     "name": "stderr",
     "output_type": "stream",
     "text": [
      "100%|██████████| 25/25 [08:30<00:00, 20.40s/it]"
     ]
    },
    {
     "name": "stdout",
     "output_type": "stream",
     "text": [
      "Wall time: 8min 30s\n"
     ]
    },
    {
     "name": "stderr",
     "output_type": "stream",
     "text": [
      "\n"
     ]
    }
   ],
   "source": [
    "%%time\n",
    "hidden_layer = np.arange(1, 25 + 1)\n",
    "\n",
    "test_err = []\n",
    "test_acc = []\n",
    "train_err = []\n",
    "train_acc = []\n",
    "\n",
    "for neuroitem in tqdm(hidden_layer):\n",
    "    mlp_model = classifier_opt(alpha_opt, (neuroitem,))\n",
    "    mlp_model.fit(x_train, y_train)\n",
    "\n",
    "    y_train_pred = mlp_model.predict(x_train)\n",
    "    y_test_pred = mlp_model.predict(x_test)\n",
    "    \n",
    "    train_err.append(np.mean(y_train != y_train_pred))\n",
    "    test_err.append(np.mean(y_test != y_test_pred))\n",
    "    \n",
    "    train_acc.append(accuracy_score(y_train, y_train_pred))\n",
    "    test_acc.append(accuracy_score(y_test, y_test_pred))\n",
    "    \n",
    "min_train_err = np.min(train_err)\n",
    "min_test_err = np.min(test_err)\n",
    "\n",
    "neuron_opt_1 = hidden_layer[test_err == min_test_err]\n",
    "neuron_opt_1 = neuron_opt_1[0]"
   ]
  },
  {
   "cell_type": "markdown",
   "id": "06ccb91d",
   "metadata": {},
   "source": [
    "Минимальная ошибка на обучающей выборке:"
   ]
  },
  {
   "cell_type": "code",
   "execution_count": 56,
   "id": "c69e9eac",
   "metadata": {},
   "outputs": [
    {
     "data": {
      "text/plain": [
       "0.20582672729467627"
      ]
     },
     "execution_count": 56,
     "metadata": {},
     "output_type": "execute_result"
    }
   ],
   "source": [
    "min_train_err"
   ]
  },
  {
   "cell_type": "markdown",
   "id": "9945af61",
   "metadata": {},
   "source": [
    "Минимальная ошибка на тестовой выборке:"
   ]
  },
  {
   "cell_type": "code",
   "execution_count": 57,
   "id": "62419bd2",
   "metadata": {},
   "outputs": [
    {
     "data": {
      "text/plain": [
       "0.22988317947880074"
      ]
     },
     "execution_count": 57,
     "metadata": {},
     "output_type": "execute_result"
    }
   ],
   "source": [
    "min_test_err"
   ]
  },
  {
   "cell_type": "code",
   "execution_count": 58,
   "id": "76d59799",
   "metadata": {},
   "outputs": [
    {
     "data": {
      "image/png": "[encoded data removed]",
      "text/plain": [
       "<Figure size 432x288 with 1 Axes>"
      ]
     },
     "metadata": {
      "needs_background": "light"
     },
     "output_type": "display_data"
    }
   ],
   "source": [
    "alpha_plot(hidden_layer, train_err, test_err, 'Number of neurons', 'Error')"
   ]
  },
  {
   "cell_type": "markdown",
   "id": "8d221d11",
   "metadata": {},
   "source": [
    "Изменение метрики в зависимости от количества нейронов первого слоя:"
   ]
  },
  {
   "cell_type": "code",
   "execution_count": 59,
   "id": "22db31e4",
   "metadata": {},
   "outputs": [
    {
     "data": {
      "image/png": "[encoded data removed]",
      "text/plain": [
       "<Figure size 432x288 with 1 Axes>"
      ]
     },
     "metadata": {
      "needs_background": "light"
     },
     "output_type": "display_data"
    }
   ],
   "source": [
    "alpha_plot(hidden_layer, train_acc, test_acc, 'Number of neurons', 'Accuracy')"
   ]
  },
  {
   "cell_type": "markdown",
   "id": "12e0ab4b",
   "metadata": {},
   "source": [
    "Оптимальное значение количества нейронов первого слоя:"
   ]
  },
  {
   "cell_type": "code",
   "execution_count": 60,
   "id": "223dce3c",
   "metadata": {},
   "outputs": [
    {
     "data": {
      "text/plain": [
       "10"
      ]
     },
     "execution_count": 60,
     "metadata": {},
     "output_type": "execute_result"
    }
   ],
   "source": [
    "neuron_opt_1"
   ]
  },
  {
   "cell_type": "markdown",
   "id": "b6e17071",
   "metadata": {},
   "source": [
    "# Обучим нейронную сеть при найденном оптимальном значении alpha и оптимальном количестве нейронов первого слоя:"
   ]
  },
  {
   "cell_type": "code",
   "execution_count": 61,
   "id": "fae6c0d4",
   "metadata": {},
   "outputs": [],
   "source": [
    "mlp_model = classifier_opt(alpha_opt, (neuron_opt_1,))\n",
    "mlp_model.fit(x_train, y_train)\n",
    "\n",
    "y_train_pred = mlp_model.predict(x_train)\n",
    "y_test_pred = mlp_model.predict(x_test)\n",
    "\n",
    "err_train = np.mean(y_train != y_train_pred)\n",
    "err_test = np.mean(y_test != y_test_pred)"
   ]
  },
  {
   "cell_type": "markdown",
   "id": "e6d14049",
   "metadata": {},
   "source": [
    "Ошибка на обучающей выборке:"
   ]
  },
  {
   "cell_type": "code",
   "execution_count": 62,
   "id": "bf8f4f73",
   "metadata": {},
   "outputs": [
    {
     "data": {
      "text/plain": [
       "0.2201521065550682"
      ]
     },
     "execution_count": 62,
     "metadata": {},
     "output_type": "execute_result"
    }
   ],
   "source": [
    "err_train"
   ]
  },
  {
   "cell_type": "markdown",
   "id": "7bdec9d2",
   "metadata": {},
   "source": [
    "Ошибка на тестовой выборке:"
   ]
  },
  {
   "cell_type": "code",
   "execution_count": 63,
   "id": "1bc8c207",
   "metadata": {},
   "outputs": [
    {
     "data": {
      "text/plain": [
       "0.22988317947880074"
      ]
     },
     "execution_count": 63,
     "metadata": {},
     "output_type": "execute_result"
    }
   ],
   "source": [
    "err_test"
   ]
  },
  {
   "cell_type": "markdown",
   "id": "bbf7b398",
   "metadata": {},
   "source": [
    "Добавим второй слой и определим количество нейронов 2-го скрытого слоя при оптимальном значении alpha и оптимальном количестве нейронов 1-го скрытого слоя при том же оптимальном alpha:"
   ]
  },
  {
   "cell_type": "code",
   "execution_count": 64,
   "id": "5c4bfe34",
   "metadata": {},
   "outputs": [
    {
     "name": "stderr",
     "output_type": "stream",
     "text": [
      " 60%|██████    | 15/25 [16:03<14:32, 87.30s/it]C:\\Users\\denikolaev\\Anaconda3\\lib\\site-packages\\sklearn\\neural_network\\_multilayer_perceptron.py:500: ConvergenceWarning: lbfgs failed to converge (status=1):\n",
      "STOP: TOTAL NO. of ITERATIONS REACHED LIMIT.\n",
      "\n",
      "Increase the number of iterations (max_iter) or scale the data as shown in:\n",
      "    https://scikit-learn.org/stable/modules/preprocessing.html\n",
      "  self.n_iter_ = _check_optimize_result(\"lbfgs\", opt_res, self.max_iter)\n",
      "100%|██████████| 25/25 [40:43<00:00, 97.75s/it] "
     ]
    },
    {
     "name": "stdout",
     "output_type": "stream",
     "text": [
      "Wall time: 40min 43s\n"
     ]
    },
    {
     "name": "stderr",
     "output_type": "stream",
     "text": [
      "\n"
     ]
    }
   ],
   "source": [
    "%%time\n",
    "hidden_layer = np.arange(1, 25 + 1)\n",
    "test_err = []\n",
    "test_acc = []\n",
    "train_err = []\n",
    "train_acc = []\n",
    "\n",
    "for neuroitem in tqdm(hidden_layer):\n",
    "    mlp_model = classifier_opt(alpha_opt, (neuron_opt_1, neuroitem))\n",
    "    \n",
    "    mlp_model.fit(x_train, y_train)\n",
    "\n",
    "    y_train_pred = mlp_model.predict(x_train)\n",
    "    y_test_pred = mlp_model.predict(x_test)\n",
    "    \n",
    "    train_err.append(np.mean(y_train != y_train_pred))\n",
    "    test_err.append(np.mean(y_test != y_test_pred))\n",
    "    \n",
    "    train_acc.append(accuracy_score(y_train, y_train_pred))\n",
    "    test_acc.append(accuracy_score(y_test, y_test_pred))\n",
    "    \n",
    "min_train_err = np.min(train_err)\n",
    "min_test_err = np.min(test_err)\n",
    "\n",
    "neuron_opt_2 = hidden_layer[test_err == min_test_err]\n",
    "neuron_opt_2 = neuron_opt_2[0]"
   ]
  },
  {
   "cell_type": "markdown",
   "id": "224bb75d",
   "metadata": {},
   "source": [
    "Минимальная ошибка на обучающей выборке:"
   ]
  },
  {
   "cell_type": "code",
   "execution_count": 65,
   "id": "602ee9b4",
   "metadata": {},
   "outputs": [
    {
     "data": {
      "text/plain": [
       "0.20401593497243573"
      ]
     },
     "execution_count": 65,
     "metadata": {},
     "output_type": "execute_result"
    }
   ],
   "source": [
    "min_train_err"
   ]
  },
  {
   "cell_type": "markdown",
   "id": "5eda29f7",
   "metadata": {},
   "source": [
    "Минимальная ошибка на тестовой выборке:"
   ]
  },
  {
   "cell_type": "code",
   "execution_count": 66,
   "id": "ede99a97",
   "metadata": {},
   "outputs": [
    {
     "data": {
      "text/plain": [
       "0.22694224328077772"
      ]
     },
     "execution_count": 66,
     "metadata": {},
     "output_type": "execute_result"
    }
   ],
   "source": [
    "min_test_err"
   ]
  },
  {
   "cell_type": "code",
   "execution_count": 67,
   "id": "38856c66",
   "metadata": {},
   "outputs": [
    {
     "data": {
      "image/png": "[encoded data removed]",
      "text/plain": [
       "<Figure size 432x288 with 1 Axes>"
      ]
     },
     "metadata": {
      "needs_background": "light"
     },
     "output_type": "display_data"
    }
   ],
   "source": [
    "alpha_plot(hidden_layer, train_err, test_err, 'Number of neurons (2)', 'Error')"
   ]
  },
  {
   "cell_type": "markdown",
   "id": "12a1320a",
   "metadata": {},
   "source": [
    "Рассмотрим, как менялась точность в зависимости от количества нейронов второго слоя:"
   ]
  },
  {
   "cell_type": "code",
   "execution_count": 68,
   "id": "2d171a31",
   "metadata": {},
   "outputs": [
    {
     "data": {
      "image/png": "[encoded data removed]",
      "text/plain": [
       "<Figure size 432x288 with 1 Axes>"
      ]
     },
     "metadata": {
      "needs_background": "light"
     },
     "output_type": "display_data"
    }
   ],
   "source": [
    "alpha_plot(hidden_layer, train_acc, test_acc, 'Number of neurons (2)', 'Accuracy')"
   ]
  },
  {
   "cell_type": "markdown",
   "id": "d7500152",
   "metadata": {},
   "source": [
    "Оптимальное значение количества нейронов второго слоя:"
   ]
  },
  {
   "cell_type": "code",
   "execution_count": 69,
   "id": "87eb1c8f",
   "metadata": {},
   "outputs": [
    {
     "data": {
      "text/plain": [
       "6"
      ]
     },
     "execution_count": 69,
     "metadata": {},
     "output_type": "execute_result"
    }
   ],
   "source": [
    "neuron_opt_2"
   ]
  },
  {
   "cell_type": "markdown",
   "id": "84b82894",
   "metadata": {},
   "source": [
    "# Обучим нейронную сеть при найденном оптимальном значении alpha, а также оптимальном количестве нейронов 1-го и 2-го скрытых слоёв"
   ]
  },
  {
   "cell_type": "code",
   "execution_count": 70,
   "id": "8ce272a7",
   "metadata": {},
   "outputs": [],
   "source": [
    "mlp_model = classifier_opt(alpha_opt, (neuron_opt_1, neuron_opt_2))\n",
    "\n",
    "mlp_model.fit(x_train, y_train)\n",
    "\n",
    "y_train_pred = mlp_model.predict(x_train)\n",
    "y_test_pred = mlp_model.predict(x_test)\n",
    "\n",
    "err_train = np.mean(y_train != y_train_pred)\n",
    "err_test = np.mean(y_test != y_test_pred)"
   ]
  },
  {
   "cell_type": "markdown",
   "id": "9871f11b",
   "metadata": {},
   "source": [
    "Ошибка на обучающей выборке: "
   ]
  },
  {
   "cell_type": "code",
   "execution_count": 71,
   "id": "5da8935a",
   "metadata": {},
   "outputs": [
    {
     "data": {
      "text/plain": [
       "0.2136332541950022"
      ]
     },
     "execution_count": 71,
     "metadata": {},
     "output_type": "execute_result"
    }
   ],
   "source": [
    "err_train"
   ]
  },
  {
   "cell_type": "markdown",
   "id": "b75a607c",
   "metadata": {},
   "source": [
    "Ошибка на тестовой выборке:"
   ]
  },
  {
   "cell_type": "code",
   "execution_count": 72,
   "id": "7ccc2ea7",
   "metadata": {},
   "outputs": [
    {
     "data": {
      "text/plain": [
       "0.22694224328077772"
      ]
     },
     "execution_count": 72,
     "metadata": {},
     "output_type": "execute_result"
    }
   ],
   "source": [
    "err_test"
   ]
  },
  {
   "cell_type": "markdown",
   "id": "e155f349",
   "metadata": {},
   "source": [
    "# Выводы"
   ]
  },
  {
   "cell_type": "markdown",
   "id": "7b890f03",
   "metadata": {},
   "source": [
    "При обучении классификатора было замечено, что при уменьшении количества нейронов ошибка на тестовой выборке уменьшается.\n",
    "\n",
    "Так, например, ошибка на тестовой выборке:<br>\n",
    "При 100 нейронах = 0.2675<br>\n",
    "При  50 нейронах = 0.2506<br>\n",
    "При  25 нейронах = 0.2334<br>\n",
    "\n",
    "Поэтому подбор гиперпараметров проводился для слоёв из 25 нейронов. Наилучших результатов удалось достичь при следующих значениях:"
   ]
  },
  {
   "cell_type": "code",
   "execution_count": 73,
   "id": "c4b7789c",
   "metadata": {},
   "outputs": [
    {
     "data": {
      "text/plain": [
       "0.001"
      ]
     },
     "execution_count": 73,
     "metadata": {},
     "output_type": "execute_result"
    }
   ],
   "source": [
    "alpha_opt"
   ]
  },
  {
   "cell_type": "code",
   "execution_count": 74,
   "id": "6a2a3249",
   "metadata": {},
   "outputs": [
    {
     "data": {
      "text/plain": [
       "10"
      ]
     },
     "execution_count": 74,
     "metadata": {},
     "output_type": "execute_result"
    }
   ],
   "source": [
    "neuron_opt_1"
   ]
  },
  {
   "cell_type": "code",
   "execution_count": 75,
   "id": "f969e5c2",
   "metadata": {},
   "outputs": [
    {
     "data": {
      "text/plain": [
       "6"
      ]
     },
     "execution_count": 75,
     "metadata": {},
     "output_type": "execute_result"
    }
   ],
   "source": [
    "neuron_opt_2"
   ]
  },
  {
   "cell_type": "markdown",
   "id": "a81fade6",
   "metadata": {},
   "source": [
    "Тестовая ошибка в данном случае получается:"
   ]
  },
  {
   "cell_type": "code",
   "execution_count": 76,
   "id": "6cf6be79",
   "metadata": {},
   "outputs": [
    {
     "data": {
      "text/plain": [
       "0.22694224328077772"
      ]
     },
     "execution_count": 76,
     "metadata": {},
     "output_type": "execute_result"
    }
   ],
   "source": [
    "err_test"
   ]
  },
  {
   "cell_type": "markdown",
   "id": "7547d6be",
   "metadata": {},
   "source": [
    "Тем не менее, несмотря на высокий уровень ошибки в работе классификатора, удалось добиться лучших результатов в сравнении с классфикатором ближних соседей."
   ]
  },
  {
   "cell_type": "code",
   "execution_count": null,
   "id": "d00baf99",
   "metadata": {},
   "outputs": [],
   "source": []
  }
 ],
 "metadata": {
  "kernelspec": {
   "display_name": "Python 3 (ipykernel)",
   "language": "python",
   "name": "python3"
  },
  "language_info": {
   "codemirror_mode": {
    "name": "ipython",
    "version": 3
   },
   "file_extension": ".py",
   "mimetype": "text/x-python",
   "name": "python",
   "nbconvert_exporter": "python",
   "pygments_lexer": "ipython3",
   "version": "3.9.7"
  }
 },
 "nbformat": 4,
 "nbformat_minor": 5
}
